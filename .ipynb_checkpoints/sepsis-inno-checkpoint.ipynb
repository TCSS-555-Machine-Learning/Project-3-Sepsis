{
 "cells": [
  {
   "cell_type": "markdown",
   "metadata": {},
   "source": [
    "<h1><center>Sepsis Prediction</h1>\n",
    "<h4>TCSS 555<br>\n",
    "Spring 2018<br>\n",
    "Thuan Lam, Tood Robbins, Inno Irving Estrera</h4></center>\n"
   ]
  },
  {
   "cell_type": "markdown",
   "metadata": {},
   "source": [
    "<h2>Libraries</h2>"
   ]
  },
  {
   "cell_type": "code",
   "execution_count": 123,
   "metadata": {},
   "outputs": [],
   "source": [
    "import numpy as np\n",
    "import pandas as pd\n",
    "import matplotlib.pyplot as plt\n",
    "import time\n",
    "\n",
    "from sklearn.utils import shuffle\n",
    "from dateutil.parser import parse\n",
    "from datetime import datetime\n",
    "\n",
    "from sklearn import model_selection\n",
    "from sklearn.linear_model import LogisticRegression\n",
    "from sklearn.tree import DecisionTreeClassifier\n",
    "from sklearn.neighbors import KNeighborsClassifier\n",
    "from sklearn.discriminant_analysis import LinearDiscriminantAnalysis\n",
    "from sklearn.naive_bayes import GaussianNB\n",
    "from sklearn.svm import SVC\n",
    "from sklearn.ensemble import RandomForestClassifier\n",
    "from sklearn.datasets import make_classification\n",
    "from sklearn.ensemble import ExtraTreesClassifier\n",
    "\n",
    "from sklearn.metrics import accuracy_score\n",
    "from sklearn.metrics import confusion_matrix\n",
    "from sklearn.metrics import classification_report\n",
    "from sklearn.metrics import roc_curve, auc\n",
    "from sklearn.metrics import precision_recall_curve"
   ]
  },
  {
   "cell_type": "markdown",
   "metadata": {},
   "source": [
    "## User specific settings"
   ]
  },
  {
   "cell_type": "code",
   "execution_count": 124,
   "metadata": {},
   "outputs": [
    {
     "name": "stdout",
     "output_type": "stream",
     "text": [
      "Current folder is /Users/innoestrera/repositories/Project-3-Sepsis\n",
      "/Users/innoestrera/Desktop/mimic3/\n"
     ]
    }
   ],
   "source": [
    "import os \n",
    "cwd = os.getcwd()\n",
    "print('Current folder is {}'.format(cwd))\n",
    "\n",
    "if os.name == \"posix\":\n",
    "    USER_DIR = '/Users/innoestrera/Desktop/mimic3/';\n",
    "else:\n",
    "    USER_DIR = 'C:\\mimic3\\\\';\n",
    "print(USER_DIR)"
   ]
  },
  {
   "cell_type": "markdown",
   "metadata": {},
   "source": [
    "## Data"
   ]
  },
  {
   "cell_type": "code",
   "execution_count": 125,
   "metadata": {},
   "outputs": [],
   "source": [
    "# Load datasets\n",
    "admissions = pd.read_csv(\"{}ADMISSIONS.csv\".format(USER_DIR))[['HADM_ID','SUBJECT_ID']]\n",
    "drugs = pd.read_csv(\"{}DRGCODES.csv\".format(USER_DIR))[['HADM_ID','SUBJECT_ID','DRG_CODE','DESCRIPTION']]\n",
    "stays = pd.read_csv(\"{}NEW_ICUSTAYS.csv\".format(USER_DIR))[['HADM_ID','ICUSTAY_ID','LOS']]\n",
    "chart = pd.read_csv(\"{}NEW_CHARTEVENTS.csv\".format(USER_DIR))\n",
    "patients = pd.read_csv(\"{}PATIENTS.csv\".format(USER_DIR))\n",
    "# labitems = pd.read_csv(\"{}D_LABITEMS.csv\".format(USER_DIR))\n",
    "# labevents = pd.read_csv(\"{}LABEVENTS.csv\".format(USER_DIR), nrows=5)\n",
    "# microbiologyevents = pd.read_csv(\"{}MICROBIOLOGYEVENTS.csv\".format(USER_DIR), nrows=5)\n",
    "# callout = pd.read_csv(\"{}CALLOUT.csv\".format(USER_DIR), nrows=5)\n",
    "# dcpt = pd.read_csv(\"{}D_CPT.csv\".format(USER_DIR), nrows=5)"
   ]
  },
  {
   "cell_type": "code",
   "execution_count": 126,
   "metadata": {},
   "outputs": [],
   "source": [
    "# add all datasets to array\n",
    "datasets = {\n",
    "    'admissions': admissions,\n",
    "    'drugs': drugs,\n",
    "    'stays': stays,\n",
    "    'chart': chart,\n",
    "    'patients': patients,\n",
    "#     'labitems': labitems\n",
    "#     'labevents': labevents,\n",
    "#     'microbiologyevents': microbiologyevents,\n",
    "#     'callout': callout,\n",
    "#     'dcpt': dcpt\n",
    "}\n",
    "\n",
    "# remove unimportant itemID features from chart events\n",
    "# (after running first try, these items returned 0 in feature importance section)\n",
    "chart = chart[chart.ITEMID != 490]\n",
    "chart = chart[chart.ITEMID != 1525]\n",
    "chart = chart[chart.ITEMID != 2981]\n",
    "chart = chart[chart.ITEMID != 227010]\n",
    "chart = chart[chart.ITEMID != 227023]\n",
    "chart = chart[chart.ITEMID != 438]\n",
    "\n",
    "featuredItemIDs = [220615, 225690, 198, 828, 226755]"
   ]
  },
  {
   "cell_type": "code",
   "execution_count": 127,
   "metadata": {},
   "outputs": [
    {
     "name": "stdout",
     "output_type": "stream",
     "text": [
      "admissions: \n",
      "\t['HADM_ID' 'SUBJECT_ID']\n",
      "drugs: \n",
      "\t['HADM_ID' 'SUBJECT_ID' 'DRG_CODE' 'DESCRIPTION']\n",
      "stays: \n",
      "\t['HADM_ID' 'ICUSTAY_ID' 'LOS']\n",
      "chart: \n",
      "\t['ICUSTAY_ID' 'ITEMID' 'VALUE']\n",
      "patients: \n",
      "\t['ROW_ID' 'SUBJECT_ID' 'GENDER' 'DOB' 'DOD' 'DOD_HOSP' 'DOD_SSN'\n",
      " 'EXPIRE_FLAG']\n"
     ]
    }
   ],
   "source": [
    "for csv in datasets:\n",
    "    print('{}: \\n\\t{}'.format(csv, datasets[csv].columns.values))\n",
    "# print(datasets['admissions'].columns.values)"
   ]
  },
  {
   "cell_type": "markdown",
   "metadata": {},
   "source": [
    "## Create the Y Set"
   ]
  },
  {
   "cell_type": "code",
   "execution_count": 128,
   "metadata": {},
   "outputs": [],
   "source": [
    "#get a copy with 2 columns only\n",
    "sepsis = drugs[['HADM_ID', 'DRG_CODE']].copy()\n",
    "\n",
    "#change drug code 870, 871, 872 to 1; Otherwise, 0\n",
    "#https://www.icd10monitor.com/understanding-sepsis-an-example-of-the-convergence-of-clinical-quality-coding-reimbursement-and-audit\n",
    "sepsis['DRG_CODE'] = sepsis['DRG_CODE'].apply(lambda x: 1 if (x >= 870 and x <= 872) or (x >= 867 and x <= 869) or x == 776 or (x >= 974 and x <= 976) else 0)\n",
    "\n",
    "#sum all drugcodes grouup by HADM_ID. If the sum > 0 means HADM_ID has/had sepsis\n",
    "sepsis = sepsis.groupby(['HADM_ID']).sum().reset_index() # .sort_values(by=['DRG_CODE'], ascending=False)\n",
    "\n",
    "#convert DRG_CODE to binary: 1 means sepsis, 0 means NO\n",
    "sepsis['DRG_CODE'] = sepsis['DRG_CODE'].apply(lambda x: 1 if x > 0 else 0)\n",
    "\n",
    "#change DRG_CODR to SEPSIS, it would be easier \n",
    "sepsis.rename(columns={'DRG_CODE': 'SEPSIS'}, inplace=True)\n",
    "\n",
    "#merge tables to create the Y set\n",
    "admissions = pd.merge(admissions, sepsis, on='HADM_ID', how='left') #.drop(['SUBJECT_ID'], axis=1)\n",
    "admissions = admissions.fillna(0)"
   ]
  },
  {
   "cell_type": "markdown",
   "metadata": {},
   "source": [
    "## Create the X Set"
   ]
  },
  {
   "cell_type": "markdown",
   "metadata": {},
   "source": [
    "* <h3>Master"
   ]
  },
  {
   "cell_type": "code",
   "execution_count": 129,
   "metadata": {},
   "outputs": [
    {
     "name": "stdout",
     "output_type": "stream",
     "text": [
      "['HADM_ID' 'SUBJECT_ID' 'SEPSIS' 'ROW_ID' 'GENDER' 'DOB' 'DOD' 'DOD_HOSP'\n",
      " 'DOD_SSN' 'EXPIRE_FLAG']\n",
      "['HADM_ID' 'SUBJECT_ID' 'SEPSIS' 'ROW_ID' 'GENDER' 'DOB' 'DOD' 'DOD_HOSP'\n",
      " 'DOD_SSN' 'EXPIRE_FLAG' 'DRG_CODE' 'DESCRIPTION']\n",
      "['HADM_ID' 'SUBJECT_ID' 'SEPSIS' 'ROW_ID' 'GENDER' 'DOB' 'DOD' 'DOD_HOSP'\n",
      " 'DOD_SSN' 'EXPIRE_FLAG' 'DESCRIPTION' 'ICUSTAY_ID' 'LOS']\n"
     ]
    }
   ],
   "source": [
    "master = pd.merge(admissions, patients, on='SUBJECT_ID', how='inner')\n",
    "print(master.columns.values)\n",
    "\n",
    "master = pd.merge(master, drugs, on=['HADM_ID', 'SUBJECT_ID'], how='left')\n",
    "print(master.columns.values)\n",
    "\n",
    "master = master.drop(['DRG_CODE'], axis=1)\n",
    "\n",
    "master = pd.merge(master, stays, on='HADM_ID', how='left')\n",
    "print(master.columns.values)"
   ]
  },
  {
   "cell_type": "markdown",
   "metadata": {},
   "source": [
    "* <h3>Get ItemIDs from ChartEvents then Add into Master"
   ]
  },
  {
   "cell_type": "code",
   "execution_count": 130,
   "metadata": {},
   "outputs": [],
   "source": [
    "# get itemsIds from ChartEvent\n",
    "for x in chart.ITEMID.unique():\n",
    "    master[x] = 0\n",
    "\n",
    "master = master.set_index('ICUSTAY_ID')"
   ]
  },
  {
   "cell_type": "code",
   "execution_count": 131,
   "metadata": {},
   "outputs": [
    {
     "name": "stdout",
     "output_type": "stream",
     "text": [
      "['HADM_ID' 'SUBJECT_ID' 'SEPSIS' 'ROW_ID' 'GENDER' 'DOB' 'DOD' 'DOD_HOSP'\n",
      " 'DOD_SSN' 'EXPIRE_FLAG' 'DESCRIPTION' 'LOS' 220615 225690 198 828 226755]\n"
     ]
    }
   ],
   "source": [
    "print(master.columns.values)"
   ]
  },
  {
   "cell_type": "code",
   "execution_count": 132,
   "metadata": {},
   "outputs": [
    {
     "data": {
      "text/plain": [
       "133306"
      ]
     },
     "execution_count": 132,
     "metadata": {},
     "output_type": "execute_result"
    }
   ],
   "source": [
    "len(master.index)"
   ]
  },
  {
   "cell_type": "code",
   "execution_count": 133,
   "metadata": {},
   "outputs": [
    {
     "data": {
      "text/html": [
       "<div>\n",
       "<style scoped>\n",
       "    .dataframe tbody tr th:only-of-type {\n",
       "        vertical-align: middle;\n",
       "    }\n",
       "\n",
       "    .dataframe tbody tr th {\n",
       "        vertical-align: top;\n",
       "    }\n",
       "\n",
       "    .dataframe thead th {\n",
       "        text-align: right;\n",
       "    }\n",
       "</style>\n",
       "<table border=\"1\" class=\"dataframe\">\n",
       "  <thead>\n",
       "    <tr style=\"text-align: right;\">\n",
       "      <th></th>\n",
       "      <th>ICUSTAY_ID</th>\n",
       "      <th>HADM_ID</th>\n",
       "      <th>SUBJECT_ID</th>\n",
       "      <th>SEPSIS</th>\n",
       "      <th>ROW_ID</th>\n",
       "      <th>GENDER</th>\n",
       "      <th>DOB</th>\n",
       "      <th>DOD</th>\n",
       "      <th>DOD_HOSP</th>\n",
       "      <th>DOD_SSN</th>\n",
       "      <th>EXPIRE_FLAG</th>\n",
       "      <th>DESCRIPTION</th>\n",
       "      <th>LOS</th>\n",
       "      <th>220615</th>\n",
       "      <th>225690</th>\n",
       "      <th>198</th>\n",
       "      <th>828</th>\n",
       "      <th>226755</th>\n",
       "    </tr>\n",
       "  </thead>\n",
       "  <tbody>\n",
       "    <tr>\n",
       "      <th>0</th>\n",
       "      <td>200001.0</td>\n",
       "      <td>152234</td>\n",
       "      <td>55973</td>\n",
       "      <td>0.0</td>\n",
       "      <td>35026</td>\n",
       "      <td>F</td>\n",
       "      <td>2120-10-31 00:00:00</td>\n",
       "      <td>2182-11-26 00:00:00</td>\n",
       "      <td>2182-11-26 00:00:00</td>\n",
       "      <td>NaN</td>\n",
       "      <td>1</td>\n",
       "      <td>CELLULITIS W MCC</td>\n",
       "      <td>3.0786</td>\n",
       "      <td>2.7</td>\n",
       "      <td>0.2</td>\n",
       "      <td>0.000000</td>\n",
       "      <td>0.000000</td>\n",
       "      <td>0.0</td>\n",
       "    </tr>\n",
       "    <tr>\n",
       "      <th>1</th>\n",
       "      <td>200003.0</td>\n",
       "      <td>163557</td>\n",
       "      <td>27513</td>\n",
       "      <td>0.0</td>\n",
       "      <td>25950</td>\n",
       "      <td>M</td>\n",
       "      <td>2151-04-17 00:00:00</td>\n",
       "      <td>2199-10-17 00:00:00</td>\n",
       "      <td>NaN</td>\n",
       "      <td>2199-10-17 00:00:00</td>\n",
       "      <td>1</td>\n",
       "      <td>Septicemia &amp; Disseminated Infections</td>\n",
       "      <td>5.8884</td>\n",
       "      <td>0.0</td>\n",
       "      <td>0.0</td>\n",
       "      <td>11.500000</td>\n",
       "      <td>114.000000</td>\n",
       "      <td>0.0</td>\n",
       "    </tr>\n",
       "    <tr>\n",
       "      <th>2</th>\n",
       "      <td>200006.0</td>\n",
       "      <td>189514</td>\n",
       "      <td>10950</td>\n",
       "      <td>0.0</td>\n",
       "      <td>10356</td>\n",
       "      <td>M</td>\n",
       "      <td>2105-08-08 00:00:00</td>\n",
       "      <td>2160-05-14 00:00:00</td>\n",
       "      <td>2160-05-14 00:00:00</td>\n",
       "      <td>2160-05-14 00:00:00</td>\n",
       "      <td>1</td>\n",
       "      <td>OTHER RESPIRATORY SYSTEM DIAGNOSES WITH COMPLI...</td>\n",
       "      <td>1.3194</td>\n",
       "      <td>0.0</td>\n",
       "      <td>0.0</td>\n",
       "      <td>15.000000</td>\n",
       "      <td>167.500000</td>\n",
       "      <td>0.0</td>\n",
       "    </tr>\n",
       "    <tr>\n",
       "      <th>3</th>\n",
       "      <td>200007.0</td>\n",
       "      <td>129310</td>\n",
       "      <td>20707</td>\n",
       "      <td>0.0</td>\n",
       "      <td>19540</td>\n",
       "      <td>M</td>\n",
       "      <td>2065-10-14 00:00:00</td>\n",
       "      <td>NaN</td>\n",
       "      <td>NaN</td>\n",
       "      <td>NaN</td>\n",
       "      <td>0</td>\n",
       "      <td>PERCUTANEOUS CARDIOVASCULAR PROCEDURES WITH AC...</td>\n",
       "      <td>1.2914</td>\n",
       "      <td>0.0</td>\n",
       "      <td>0.0</td>\n",
       "      <td>15.000000</td>\n",
       "      <td>255.500000</td>\n",
       "      <td>0.0</td>\n",
       "    </tr>\n",
       "    <tr>\n",
       "      <th>4</th>\n",
       "      <td>200009.0</td>\n",
       "      <td>129607</td>\n",
       "      <td>29904</td>\n",
       "      <td>0.0</td>\n",
       "      <td>28133</td>\n",
       "      <td>F</td>\n",
       "      <td>2142-05-12 00:00:00</td>\n",
       "      <td>NaN</td>\n",
       "      <td>NaN</td>\n",
       "      <td>NaN</td>\n",
       "      <td>0</td>\n",
       "      <td>CARDIAC VALVE &amp; OTH MAJ CARDIOTHORACIC PROC W/...</td>\n",
       "      <td>2.1549</td>\n",
       "      <td>0.0</td>\n",
       "      <td>0.0</td>\n",
       "      <td>7.571429</td>\n",
       "      <td>150.166667</td>\n",
       "      <td>0.0</td>\n",
       "    </tr>\n",
       "  </tbody>\n",
       "</table>\n",
       "</div>"
      ],
      "text/plain": [
       "   ICUSTAY_ID  HADM_ID  SUBJECT_ID  SEPSIS  ROW_ID GENDER  \\\n",
       "0    200001.0   152234       55973     0.0   35026      F   \n",
       "1    200003.0   163557       27513     0.0   25950      M   \n",
       "2    200006.0   189514       10950     0.0   10356      M   \n",
       "3    200007.0   129310       20707     0.0   19540      M   \n",
       "4    200009.0   129607       29904     0.0   28133      F   \n",
       "\n",
       "                   DOB                  DOD             DOD_HOSP  \\\n",
       "0  2120-10-31 00:00:00  2182-11-26 00:00:00  2182-11-26 00:00:00   \n",
       "1  2151-04-17 00:00:00  2199-10-17 00:00:00                  NaN   \n",
       "2  2105-08-08 00:00:00  2160-05-14 00:00:00  2160-05-14 00:00:00   \n",
       "3  2065-10-14 00:00:00                  NaN                  NaN   \n",
       "4  2142-05-12 00:00:00                  NaN                  NaN   \n",
       "\n",
       "               DOD_SSN  EXPIRE_FLAG  \\\n",
       "0                  NaN            1   \n",
       "1  2199-10-17 00:00:00            1   \n",
       "2  2160-05-14 00:00:00            1   \n",
       "3                  NaN            0   \n",
       "4                  NaN            0   \n",
       "\n",
       "                                         DESCRIPTION     LOS  220615  225690  \\\n",
       "0                                   CELLULITIS W MCC  3.0786     2.7     0.2   \n",
       "1               Septicemia & Disseminated Infections  5.8884     0.0     0.0   \n",
       "2  OTHER RESPIRATORY SYSTEM DIAGNOSES WITH COMPLI...  1.3194     0.0     0.0   \n",
       "3  PERCUTANEOUS CARDIOVASCULAR PROCEDURES WITH AC...  1.2914     0.0     0.0   \n",
       "4  CARDIAC VALVE & OTH MAJ CARDIOTHORACIC PROC W/...  2.1549     0.0     0.0   \n",
       "\n",
       "         198         828  226755  \n",
       "0   0.000000    0.000000     0.0  \n",
       "1  11.500000  114.000000     0.0  \n",
       "2  15.000000  167.500000     0.0  \n",
       "3  15.000000  255.500000     0.0  \n",
       "4   7.571429  150.166667     0.0  "
      ]
     },
     "execution_count": 133,
     "metadata": {},
     "output_type": "execute_result"
    }
   ],
   "source": [
    "grouped_df = chart.groupby(['ICUSTAY_ID', 'ITEMID'], as_index=False).last()\n",
    "master = master.reset_index().sort_values(by='ICUSTAY_ID').groupby('ICUSTAY_ID', as_index=False).last()\n",
    "dataByDrug = grouped_df.set_index([\"ICUSTAY_ID\", \"ITEMID\"]).unstack(level=-1)\n",
    "\n",
    "# We need to remove rows for  ICUSTAY_ID = 228437 and 239892 since there are no drugs associated with them \n",
    "dropIndex = master.index[master['ICUSTAY_ID'].isin([228437, 239892])].tolist()\n",
    "master = master.drop(dropIndex)\n",
    "\n",
    "master[198] = dataByDrug['VALUE'][198].fillna(0).values\n",
    "master[828] = dataByDrug['VALUE'][828].fillna(0).values\n",
    "master[220615] = dataByDrug['VALUE'][220615].fillna(0).values\n",
    "master[225690] = dataByDrug['VALUE'][225690].fillna(0).values\n",
    "master[226755] = dataByDrug['VALUE'][226755].fillna(0).values\n",
    "\n",
    "\n",
    "master.head()"
   ]
  },
  {
   "cell_type": "markdown",
   "metadata": {},
   "source": [
    "## Preprocess data"
   ]
  },
  {
   "cell_type": "code",
   "execution_count": 134,
   "metadata": {},
   "outputs": [
    {
     "data": {
      "text/html": [
       "<div>\n",
       "<style scoped>\n",
       "    .dataframe tbody tr th:only-of-type {\n",
       "        vertical-align: middle;\n",
       "    }\n",
       "\n",
       "    .dataframe tbody tr th {\n",
       "        vertical-align: top;\n",
       "    }\n",
       "\n",
       "    .dataframe thead th {\n",
       "        text-align: right;\n",
       "    }\n",
       "</style>\n",
       "<table border=\"1\" class=\"dataframe\">\n",
       "  <thead>\n",
       "    <tr style=\"text-align: right;\">\n",
       "      <th></th>\n",
       "      <th>GENDER</th>\n",
       "      <th>LOS</th>\n",
       "      <th>220615</th>\n",
       "      <th>225690</th>\n",
       "      <th>198</th>\n",
       "      <th>828</th>\n",
       "      <th>226755</th>\n",
       "      <th>DOBYear</th>\n",
       "      <th>DOBMonth</th>\n",
       "      <th>DOBDay</th>\n",
       "      <th>SEPSIS</th>\n",
       "    </tr>\n",
       "  </thead>\n",
       "  <tbody>\n",
       "    <tr>\n",
       "      <th>0</th>\n",
       "      <td>1</td>\n",
       "      <td>1.1043</td>\n",
       "      <td>0.000000</td>\n",
       "      <td>0.000000</td>\n",
       "      <td>15.000000</td>\n",
       "      <td>157.5</td>\n",
       "      <td>0.0</td>\n",
       "      <td>2079</td>\n",
       "      <td>5</td>\n",
       "      <td>22</td>\n",
       "      <td>0.0</td>\n",
       "    </tr>\n",
       "    <tr>\n",
       "      <th>1</th>\n",
       "      <td>1</td>\n",
       "      <td>2.1564</td>\n",
       "      <td>1.300000</td>\n",
       "      <td>0.000000</td>\n",
       "      <td>14.700000</td>\n",
       "      <td>173.0</td>\n",
       "      <td>0.0</td>\n",
       "      <td>1804</td>\n",
       "      <td>2</td>\n",
       "      <td>9</td>\n",
       "      <td>0.0</td>\n",
       "    </tr>\n",
       "    <tr>\n",
       "      <th>2</th>\n",
       "      <td>0</td>\n",
       "      <td>2.9189</td>\n",
       "      <td>3.100000</td>\n",
       "      <td>1.400000</td>\n",
       "      <td>0.000000</td>\n",
       "      <td>0.0</td>\n",
       "      <td>0.0</td>\n",
       "      <td>2111</td>\n",
       "      <td>7</td>\n",
       "      <td>6</td>\n",
       "      <td>0.0</td>\n",
       "    </tr>\n",
       "    <tr>\n",
       "      <th>3</th>\n",
       "      <td>0</td>\n",
       "      <td>5.5146</td>\n",
       "      <td>0.666667</td>\n",
       "      <td>1.266667</td>\n",
       "      <td>0.000000</td>\n",
       "      <td>0.0</td>\n",
       "      <td>0.0</td>\n",
       "      <td>2115</td>\n",
       "      <td>11</td>\n",
       "      <td>10</td>\n",
       "      <td>0.0</td>\n",
       "    </tr>\n",
       "    <tr>\n",
       "      <th>4</th>\n",
       "      <td>1</td>\n",
       "      <td>2.5988</td>\n",
       "      <td>0.000000</td>\n",
       "      <td>0.000000</td>\n",
       "      <td>8.714286</td>\n",
       "      <td>124.5</td>\n",
       "      <td>0.0</td>\n",
       "      <td>2112</td>\n",
       "      <td>10</td>\n",
       "      <td>13</td>\n",
       "      <td>0.0</td>\n",
       "    </tr>\n",
       "  </tbody>\n",
       "</table>\n",
       "</div>"
      ],
      "text/plain": [
       "   GENDER     LOS    220615    225690        198    828  226755  DOBYear  \\\n",
       "0       1  1.1043  0.000000  0.000000  15.000000  157.5     0.0     2079   \n",
       "1       1  2.1564  1.300000  0.000000  14.700000  173.0     0.0     1804   \n",
       "2       0  2.9189  3.100000  1.400000   0.000000    0.0     0.0     2111   \n",
       "3       0  5.5146  0.666667  1.266667   0.000000    0.0     0.0     2115   \n",
       "4       1  2.5988  0.000000  0.000000   8.714286  124.5     0.0     2112   \n",
       "\n",
       "   DOBMonth  DOBDay  SEPSIS  \n",
       "0         5      22     0.0  \n",
       "1         2       9     0.0  \n",
       "2         7       6     0.0  \n",
       "3        11      10     0.0  \n",
       "4        10      13     0.0  "
      ]
     },
     "execution_count": 134,
     "metadata": {},
     "output_type": "execute_result"
    }
   ],
   "source": [
    "# remove unnecessary columns\n",
    "master.drop(['ICUSTAY_ID','ROW_ID', 'HADM_ID','SUBJECT_ID', 'DOD', 'DOD_HOSP', 'DOD_SSN', 'EXPIRE_FLAG', 'DESCRIPTION'], axis=1, inplace=True)\n",
    "\n",
    "master.fillna(0, inplace=True)\n",
    "master = shuffle(master)\n",
    "\n",
    "master.GENDER = master.GENDER.apply(lambda x: 0 if x == 'F' else 1)\n",
    "master.DOB = pd.to_datetime(master.DOB)\n",
    "\n",
    "master = master.reset_index(drop=True)\n",
    "\n",
    "master['DOBYear'] = master.DOB.dt.year\n",
    "master['DOBMonth'] = master.DOB.dt.month\n",
    "master['DOBDay'] = master.DOB.dt.day\n",
    "master.drop(['DOB'], axis=1, inplace=True)\n",
    "\n",
    "# move the SEPSIS column to the last \n",
    "cols = master.columns.tolist()\n",
    "cols.insert(len(master.columns) - 1, cols.pop(cols.index('SEPSIS')))\n",
    "master = master.reindex(columns= cols).reset_index()\n",
    "master.drop(['index'], axis=1, inplace=True)\n",
    "\n",
    "master.head()"
   ]
  },
  {
   "cell_type": "markdown",
   "metadata": {},
   "source": [
    "## Baseline"
   ]
  },
  {
   "cell_type": "code",
   "execution_count": 135,
   "metadata": {},
   "outputs": [
    {
     "name": "stdout",
     "output_type": "stream",
     "text": [
      "Sepsis: 1815 rows out of 51694 rows\n",
      "Baseline: 0.9648895423066507\n"
     ]
    }
   ],
   "source": [
    "all_rows = master.shape[0]\n",
    "sepsis_rows = len(master[(master['SEPSIS'] == 1)])\n",
    "baseline = 1 -(sepsis_rows / all_rows)\n",
    "print('Sepsis: {} rows out of {} rows'.format(sepsis_rows, all_rows))\n",
    "print('Baseline: {}'.format(baseline))"
   ]
  },
  {
   "cell_type": "markdown",
   "metadata": {},
   "source": [
    "## Model"
   ]
  },
  {
   "cell_type": "code",
   "execution_count": 136,
   "metadata": {},
   "outputs": [],
   "source": [
    "# Test options and evaluation metric\n",
    "seed = 7\n",
    "scoring = 'accuracy'\n",
    "\n",
    "# Spot Check Algorithms\n",
    "models = []\n",
    "models.append(('LR', LogisticRegression())) # <== no feature importance\n",
    "models.append(('KNN', KNeighborsClassifier())) # <== no feature importance\n",
    "models.append(('CART', DecisionTreeClassifier()))\n",
    "models.append(('NB', GaussianNB()))   # <== no feature importance\n",
    "models.append(('RF', RandomForestClassifier()))\n",
    "\n",
    "featureImportanceModels = [DecisionTreeClassifier(), RandomForestClassifier()]"
   ]
  },
  {
   "cell_type": "markdown",
   "metadata": {},
   "source": [
    "## Feature Importance"
   ]
  },
  {
   "cell_type": "code",
   "execution_count": 137,
   "metadata": {},
   "outputs": [
    {
     "name": "stdout",
     "output_type": "stream",
     "text": [
      "['GENDER' 'LOS' 220615 225690 198 828 226755 'DOBYear' 'DOBMonth' 'DOBDay'\n",
      " 'SEPSIS']\n"
     ]
    },
    {
     "data": {
      "image/png": "[encoded data removed]",
      "text/plain": [
       "<matplotlib.figure.Figure at 0x117a47cf8>"
      ]
     },
     "metadata": {},
     "output_type": "display_data"
    },
    {
     "data": {
      "image/png": "[encoded data removed]",
      "text/plain": [
       "<matplotlib.figure.Figure at 0x117a5e7f0>"
      ]
     },
     "metadata": {},
     "output_type": "display_data"
    }
   ],
   "source": [
    "# Split-out validation dataset\n",
    "col = len(master.columns) - 1\n",
    "array = master.values   #numpy array\n",
    "X = array[:,0:col]# first N columns\n",
    "Y = array[:,col]  # SEPSIS column\n",
    "\n",
    "print(master.columns.values)\n",
    "\n",
    "validation_size = 0.20\n",
    "seed = 7\n",
    "X_train, X_validation, Y_train, Y_validation = model_selection.train_test_split(X, Y, test_size=validation_size, random_state=seed)\n",
    "\n",
    "for clf in featureImportanceModels:\n",
    "    clf.fit(X, Y)\n",
    "    importances = clf.feature_importances_\n",
    "    indices = np.argsort(importances)[::-1]\n",
    "    \n",
    "    plt.figure()\n",
    "    plt.title(\"Feature importances\")\n",
    "    plt.bar(range(X.shape[1]), importances[indices], color=\"r\", align=\"center\")\n",
    "    plt.xticks(range(X.shape[1]), indices)\n",
    "    plt.xlim([-1, X.shape[1]])\n",
    "    plt.show()"
   ]
  },
  {
   "cell_type": "code",
   "execution_count": 138,
   "metadata": {},
   "outputs": [
    {
     "name": "stdout",
     "output_type": "stream",
     "text": [
      "LR: 0.965155 (0.002644)\n",
      "KNN: 0.964382 (0.002478)\n",
      "CART: 0.931858 (0.003009)\n",
      "NB: 0.945593 (0.011297)\n",
      "RF: 0.964720 (0.002599)\n"
     ]
    }
   ],
   "source": [
    "# evaluate each model in turn\n",
    "results = []\n",
    "names = []\n",
    "for name, model in models:\n",
    "    kfold = model_selection.KFold(n_splits=10, random_state=seed)\n",
    "    cv_results = model_selection.cross_val_score(model, X_train, Y_train, cv=kfold, scoring=scoring)\n",
    "    results.append(cv_results)\n",
    "    names.append(name)\n",
    "    msg = \"%s: %f (%f)\" % (name, cv_results.mean(), cv_results.std())\n",
    "    print(msg)"
   ]
  },
  {
   "cell_type": "code",
   "execution_count": 139,
   "metadata": {},
   "outputs": [
    {
     "data": {
      "image/png": "[encoded data removed]",
      "text/plain": [
       "<matplotlib.figure.Figure at 0x12ba4c080>"
      ]
     },
     "metadata": {},
     "output_type": "display_data"
    }
   ],
   "source": [
    "# Compare Algorithms\n",
    "fig = plt.figure()\n",
    "fig.suptitle('Algorithm Comparison')\n",
    "ax = fig.add_subplot(111)\n",
    "plt.boxplot(results)\n",
    "ax.set_xticklabels(names)\n",
    "plt.show()"
   ]
  },
  {
   "cell_type": "code",
   "execution_count": 140,
   "metadata": {
    "scrolled": false
   },
   "outputs": [
    {
     "name": "stdout",
     "output_type": "stream",
     "text": [
      "accuracy 0.9624721926685366\n",
      "confusion Matrix [[9951    2]\n",
      " [ 386    0]]\n",
      "precision [0.03733437 0.         1.        ]\n",
      "recall [1. 0. 0.]\n",
      "sensitivity 0.9997990555611374\n",
      "specificity 0.0\n",
      "stuff (array([0.00000000e+00, 2.00944439e-04, 1.00000000e+00]), array([0., 0., 1.]), array([2., 1., 0.]))\n"
     ]
    },
    {
     "data": {
      "image/png": "[encoded data removed]",
      "text/plain": [
       "<matplotlib.figure.Figure at 0x117a9a470>"
      ]
     },
     "metadata": {},
     "output_type": "display_data"
    },
    {
     "data": {
      "image/png": "[encoded data removed]",
      "text/plain": [
       "<matplotlib.figure.Figure at 0x119014fd0>"
      ]
     },
     "metadata": {},
     "output_type": "display_data"
    },
    {
     "name": "stdout",
     "output_type": "stream",
     "text": [
      "accuracy 0.961988586903956\n",
      "confusion Matrix [[9943   10]\n",
      " [ 383    3]]\n",
      "precision [0.03733437 0.23076923 1.        ]\n",
      "recall [1.         0.00777202 0.        ]\n",
      "sensitivity 0.9989952778056868\n",
      "specificity 0.007772020725388601\n",
      "stuff (array([0.        , 0.00100472, 1.        ]), array([0.        , 0.00777202, 1.        ]), array([2., 1., 0.]))\n"
     ]
    },
    {
     "data": {
      "image/png": "[encoded data removed]",
      "text/plain": [
       "<matplotlib.figure.Figure at 0x1137aca90>"
      ]
     },
     "metadata": {},
     "output_type": "display_data"
    },
    {
     "data": {
      "image/png": "[encoded data removed]",
      "text/plain": [
       "<matplotlib.figure.Figure at 0x112ec7470>"
      ]
     },
     "metadata": {},
     "output_type": "display_data"
    },
    {
     "name": "stdout",
     "output_type": "stream",
     "text": [
      "accuracy 0.9316181448882871\n",
      "confusion Matrix [[9581  372]\n",
      " [ 335   51]]\n",
      "precision [0.03733437 0.12056738 1.        ]\n",
      "recall [1.         0.13212435 0.        ]\n",
      "sensitivity 0.9626243343715463\n",
      "specificity 0.13212435233160622\n",
      "stuff (array([0.        , 0.03737567, 1.        ]), array([0.        , 0.13212435, 1.        ]), array([2., 1., 0.]))\n"
     ]
    },
    {
     "data": {
      "image/png": "[encoded data removed]",
      "text/plain": [
       "<matplotlib.figure.Figure at 0x11c47deb8>"
      ]
     },
     "metadata": {},
     "output_type": "display_data"
    },
    {
     "data": {
      "image/png": "[encoded data removed]",
      "text/plain": [
       "<matplotlib.figure.Figure at 0x113d1f4e0>"
      ]
     },
     "metadata": {},
     "output_type": "display_data"
    },
    {
     "name": "stdout",
     "output_type": "stream",
     "text": [
      "accuracy 0.9457394332140439\n",
      "confusion Matrix [[9748  205]\n",
      " [ 356   30]]\n",
      "precision [0.03733437 0.12765957 1.        ]\n",
      "recall [1.         0.07772021 0.        ]\n",
      "sensitivity 0.9794031950165779\n",
      "specificity 0.07772020725388601\n",
      "stuff (array([0.       , 0.0205968, 1.       ]), array([0.        , 0.07772021, 1.        ]), array([2., 1., 0.]))\n"
     ]
    },
    {
     "data": {
      "image/png": "[encoded data removed]",
      "text/plain": [
       "<matplotlib.figure.Figure at 0x11c471ac8>"
      ]
     },
     "metadata": {},
     "output_type": "display_data"
    },
    {
     "data": {
      "image/png": "[encoded data removed]",
      "text/plain": [
       "<matplotlib.figure.Figure at 0x12ba2da90>"
      ]
     },
     "metadata": {},
     "output_type": "display_data"
    },
    {
     "name": "stdout",
     "output_type": "stream",
     "text": [
      "accuracy 0.9617951445981237\n",
      "confusion Matrix [[9940   13]\n",
      " [ 382    4]]\n",
      "precision [0.03733437 0.23529412 1.        ]\n",
      "recall [1.         0.01036269 0.        ]\n",
      "sensitivity 0.9986938611473928\n",
      "specificity 0.010362694300518135\n",
      "stuff (array([0.        , 0.00130614, 1.        ]), array([0.        , 0.01036269, 1.        ]), array([2., 1., 0.]))\n"
     ]
    },
    {
     "data": {
      "image/png": "[encoded data removed]",
      "text/plain": [
       "<matplotlib.figure.Figure at 0x1126e2438>"
      ]
     },
     "metadata": {},
     "output_type": "display_data"
    },
    {
     "data": {
      "image/png": "[encoded data removed]",
      "text/plain": [
       "<matplotlib.figure.Figure at 0x118b32588>"
      ]
     },
     "metadata": {},
     "output_type": "display_data"
    }
   ],
   "source": [
    "# Make predictions on validation dataset\n",
    "\n",
    "messages = []\n",
    "matrices = []\n",
    "for name, model in models:\n",
    "    model.fit(X_train, Y_train)\n",
    "    prediction = model.predict(X_validation)\n",
    "    \n",
    "    accuracyScore = accuracy_score(Y_validation, prediction)\n",
    "    confusionMatrix = confusion_matrix(Y_validation, prediction)\n",
    "    classificationReport = classification_report(Y_validation, prediction)\n",
    "    precision, recall, thresholds = precision_recall_curve(Y_validation, prediction)\n",
    "    sensitivity = confusionMatrix[0, 0]/(confusionMatrix[0, 0]+confusionMatrix[0, 1])\n",
    "    specificity = confusionMatrix[1, 1]/(confusionMatrix[1, 0]+confusionMatrix[1, 1])\n",
    "    false_positive_rate, true_positive_rate, thresholds = roc_curve(Y_validation, prediction)\n",
    "    roc_auc = auc(false_positive_rate, true_positive_rate)\n",
    "    #metrics.roc_curve(Y_validation, prediction)\n",
    "    #auc = metrics.auc(confusionMatrix[0, 0], confusionMatrix[1, 1])\n",
    "    \n",
    "    print(\"accuracy\", accuracyScore)\n",
    "    print(\"confusion Matrix\", confusionMatrix)\n",
    "    print(\"precision\", precision)\n",
    "    print(\"recall\", recall)\n",
    "    print(\"sensitivity\", sensitivity)\n",
    "    print(\"specificity\", specificity)\n",
    "    print(\"stuff\", roc_curve(Y_validation, prediction))\n",
    "    plt.title('AUC')\n",
    "    plt.plot(false_positive_rate, true_positive_rate, 'b', label='AUC = %0.2f'% roc_auc)\n",
    "    plt.legend(loc='lower right')\n",
    "    plt.plot([0,1],[0,1],'r--')\n",
    "    plt.xlim([-0.1,1.2])\n",
    "    plt.ylim([-0.1,1.2])\n",
    "    plt.ylabel('True Positive Rate')\n",
    "    plt.xlabel('False Positive Rate')\n",
    "    plt.show()\n",
    "    \n",
    "    plt.step(recall, precision, color='b', alpha=0.2,where='post')\n",
    "    plt.fill_between(recall, precision, step='post', alpha=0.2, color='b')\n",
    "\n",
    "    plt.xlabel('Recall')\n",
    "    plt.ylabel('Precision')\n",
    "    plt.ylim([0.0, 1.05])\n",
    "    plt.xlim([0.0, 1.0])\n",
    "    plt.show()\n",
    "    #matrices.append(confusionMatrix)\n",
    "    \n",
    "#print(confusionMatrix)\n",
    "#print(messages)"
   ]
  },
  {
   "cell_type": "code",
   "execution_count": null,
   "metadata": {},
   "outputs": [],
   "source": []
  }
 ],
 "metadata": {
  "kernelspec": {
   "display_name": "Python 3",
   "language": "python",
   "name": "python3"
  },
  "language_info": {
   "codemirror_mode": {
    "name": "ipython",
    "version": 3
   },
   "file_extension": ".py",
   "mimetype": "text/x-python",
   "name": "python",
   "nbconvert_exporter": "python",
   "pygments_lexer": "ipython3",
   "version": "3.6.4"
  }
 },
 "nbformat": 4,
 "nbformat_minor": 2
}
