{
 "cells": [
  {
   "cell_type": "markdown",
   "metadata": {},
   "source": [
    "<h1><center>Sepsis Prediction</h1>\n",
    "<h4>TCSS 555<br>\n",
    "Spring 2018<br>\n",
    "Thuan Lam, Tood Robbins, Inno Irving Estrera</h4></center>\n"
   ]
  },
  {
   "cell_type": "markdown",
   "metadata": {},
   "source": [
    "<h2>Libraries</h2>"
   ]
  },
  {
   "cell_type": "code",
   "execution_count": 7,
   "metadata": {},
   "outputs": [],
   "source": [
    "import numpy as np\n",
    "import pandas as pd\n",
    "import matplotlib.pyplot as plt\n",
    "\n",
    "from sklearn.utils import shuffle\n",
    "from dateutil.parser import parse\n",
    "from datetime import datetime\n",
    "\n",
    "from sklearn import model_selection\n",
    "from sklearn.linear_model import LogisticRegression\n",
    "from sklearn.tree import DecisionTreeClassifier\n",
    "from sklearn.neighbors import KNeighborsClassifier\n",
    "from sklearn.discriminant_analysis import LinearDiscriminantAnalysis\n",
    "from sklearn.naive_bayes import GaussianNB\n",
    "from sklearn.svm import SVC\n",
    "from sklearn.ensemble import RandomForestClassifier\n",
    "\n",
    "from sklearn.metrics import accuracy_score\n",
    "from sklearn.metrics import confusion_matrix\n",
    "from sklearn.metrics import classification_report"
   ]
  },
  {
   "cell_type": "markdown",
   "metadata": {},
   "source": [
    "## Global Setup"
   ]
  },
  {
   "cell_type": "code",
   "execution_count": 8,
   "metadata": {},
   "outputs": [],
   "source": [
    "hoursCheckedIn = 9000              # run pridiction after the patient checkek in <runAt> hours\n",
    "hoursGranularity = 5    # see the granularity section\n",
    "numberOfStayRow = -1  # get 5000 rows in the ICU STAYS only. Set numberOfStayRow = -1 if you want to get all rows"
   ]
  },
  {
   "cell_type": "markdown",
   "metadata": {},
   "source": [
    "## User Defined Functions and Variables"
   ]
  },
  {
   "cell_type": "code",
   "execution_count": 9,
   "metadata": {},
   "outputs": [],
   "source": [
    "DatetimeFormat = '%Y-%m-%d %H:%M:%S'\n",
    "\n",
    "def event_time_filter(row):\n",
    "    proceduretime = datetime.strptime(row.EVENTTIME, DatetimeFormat)\n",
    "    intime = datetime.strptime(row.INTIME, DatetimeFormat)\n",
    "    hours = (proceduretime - intime).total_seconds() / 3600.0\n",
    "    row.hours = hours\n",
    "    return row\n",
    "\n",
    "def createEventsTable(dataframe, name, timeColumn):\n",
    "    print('{} loaded. Shape: {}'.format(dataframe.shape, name))\n",
    "    dataframe.rename(columns={timeColumn: 'EVENTTIME'}, inplace=True)\n",
    "    dataframe = pd.merge(dataframe, stays, on='ICUSTAY_ID', how='inner').drop(['LOS','GENDER','AGE'], axis=1)\n",
    "    dataframe.insert(0,'hours', 0) \n",
    "    dataframe = dataframe.apply(lambda row: event_time_filter(row), axis=1)\n",
    "\n",
    "    # delete hours > hoursCheckedIn\n",
    "    dataframe = dataframe.loc[dataframe['hours'] <= hoursCheckedIn]\n",
    "\n",
    "    dataframe.drop(['hours', 'EVENTTIME', 'INTIME'], axis=1, inplace=True)\n",
    "    print('{} filtered. Shape: {}'.format(name, dataframe.shape))\n",
    "    return dataframe"
   ]
  },
  {
   "cell_type": "markdown",
   "metadata": {},
   "source": [
    "## Data"
   ]
  },
  {
   "cell_type": "code",
   "execution_count": 10,
   "metadata": {},
   "outputs": [
    {
     "name": "stdout",
     "output_type": "stream",
     "text": [
      "Current folder is D:\\Users\\Thuan Lam\\Google Drive\\TCC-Madison-UWT\\UWT\\TCSS 555 - Machine Learning\\Projects\\Sepsis\n",
      "Data\\\n"
     ]
    }
   ],
   "source": [
    "import os \n",
    "cwd = os.getcwd()\n",
    "print('Current folder is {}'.format(cwd))\n",
    "\n",
    "if os.name == \"posix\":\n",
    "    unreadable = set([\n",
    "        \"LABEVENTS.csv\",\n",
    "        \"INPUTEVENTS_CV.csv\",\n",
    "        \"DATETIMEEVENTS.csv\",\n",
    "        \"PRESCRIPTIONS.csv\",\n",
    "        \"NOTEEVENTS.csv\",\n",
    "        \"OUTPUTEVENTS.csv\",\n",
    "        \"CHARTEVENTS.csv\",\n",
    "        \"D_LABITEMS.csv\",\n",
    "        \"CPTEVENTS.csv\"\n",
    "    ])\n",
    "    USER_DIR = '/Users/innoestrera/Desktop/mimic3/';\n",
    "else:\n",
    "    USER_DIR = 'Data\\\\';\n",
    "print(USER_DIR)"
   ]
  },
  {
   "cell_type": "code",
   "execution_count": 11,
   "metadata": {},
   "outputs": [
    {
     "name": "stdout",
     "output_type": "stream",
     "text": [
      "   HADM_ID  SUBJECT_ID            ADMITTIME  DIAGNOSIS\n",
      "0   165315          22  2196-04-09 12:26:00          0\n",
      "1   152223          23  2153-09-03 07:15:00          0\n"
     ]
    }
   ],
   "source": [
    "# Load datasets\n",
    "admissions = pd.read_csv(\"{}ADMISSIONS.csv\".format(USER_DIR))[['HADM_ID','SUBJECT_ID','ADMITTIME','DIAGNOSIS']]\n",
    "# convert Diagnosis to binary: 1 means sepsis\n",
    "admissions['DIAGNOSIS'] = admissions['DIAGNOSIS'].apply(lambda x : 0 if str(x).find('SEPSIS') == -1 else 1)\n",
    "print(admissions.head(2))\n",
    "# adminssions = shuffle(stays)\n",
    "\n",
    "drugs = pd.read_csv(\"{}DRGCODES.csv\".format(USER_DIR))[['HADM_ID','SUBJECT_ID','DRG_CODE','DESCRIPTION']]"
   ]
  },
  {
   "cell_type": "markdown",
   "metadata": {},
   "source": [
    "## Create the Y Set"
   ]
  },
  {
   "cell_type": "code",
   "execution_count": 13,
   "metadata": {},
   "outputs": [
    {
     "name": "stdout",
     "output_type": "stream",
     "text": [
      "   HADM_ID  SUBJECT_ID            ADMITTIME  DIAGNOSIS  SEPSIS_x  SEPSIS_y\n",
      "0   165315          22  2196-04-09 12:26:00          0       0.0       0.0\n",
      "1   152223          23  2153-09-03 07:15:00          0       0.0       0.0\n"
     ]
    }
   ],
   "source": [
    "#get a copy with 2 columns only\n",
    "find_sepsis = drugs[['HADM_ID', 'DRG_CODE']].copy()\n",
    "\n",
    "#change drug code 870, 871, 872 to 1; Otherwise, 0\n",
    "#https://www.icd10monitor.com/understanding-sepsis-an-example-of-the-convergence-of-clinical-quality-coding-reimbursement-and-audit\n",
    "find_sepsis['DRG_CODE'] = find_sepsis['DRG_CODE'].apply(lambda x: 1 if (x >= 870 and x <= 872) or (x >= 867 and x <= 869) or x == 776 or (x >= 974 and x <= 976) else 0)\n",
    "\n",
    "#sum all drugcodes grouup by HADM_ID. If the sum > 0 means HADM_ID has/had sepsis\n",
    "find_sepsis = find_sepsis.groupby(['HADM_ID']).sum().reset_index() # .sort_values(by=['DRG_CODE'], ascending=False)\n",
    "\n",
    "#convert DRG_CODE to binary: 1 means sepsis, 0 means NO\n",
    "find_sepsis['DRG_CODE'] = find_sepsis['DRG_CODE'].apply(lambda x: 1 if x > 0 else 0)\n",
    "\n",
    "#change DRG_CODR to SEPSIS, it would be easier \n",
    "find_sepsis.rename(columns={'DRG_CODE': 'SEPSIS'}, inplace=True)\n",
    "\n",
    "# print('find_sepsis: ')\n",
    "# print(find_sepsis.head(2))\n",
    "# print('admission1: ')\n",
    "# print(admissions.head(2))\n",
    "\n",
    "#merge tables to create the Y set\n",
    "admissions = pd.merge(admissions, find_sepsis, on='HADM_ID', how='left') #.drop(['SUBJECT_ID'], axis=1)\n",
    "# print('admission2: ')\n",
    "print(admissions.head(2))\n",
    "\n",
    "# admissions.loc[admissions['SEPSIS'] > 0]"
   ]
  },
  {
   "cell_type": "code",
   "execution_count": null,
   "metadata": {},
   "outputs": [],
   "source": []
  },
  {
   "cell_type": "code",
   "execution_count": null,
   "metadata": {},
   "outputs": [],
   "source": []
  },
  {
   "cell_type": "code",
   "execution_count": null,
   "metadata": {},
   "outputs": [],
   "source": []
  },
  {
   "cell_type": "code",
   "execution_count": null,
   "metadata": {},
   "outputs": [],
   "source": []
  },
  {
   "cell_type": "markdown",
   "metadata": {},
   "source": [
    "<center><h1>below this point is old code</h1></center>"
   ]
  },
  {
   "cell_type": "code",
   "execution_count": 5,
   "metadata": {},
   "outputs": [
    {
     "name": "stdout",
     "output_type": "stream",
     "text": [
      "ICUStays loaded. Shape: (61522, 4)\n",
      "['ICUSTAY_ID' 'SUBJECT_ID' 'INTIME' 'LOS']\n"
     ]
    }
   ],
   "source": [
    "\n",
    "drugs = pd.read_csv(\"DRGCODES.csv\".format(USER_DIR))[['HADMID','SUBJECT_ID','DRG_CODE','DESCRIPTION']]\n",
    "\n",
    "\n",
    "\n",
    "stays = pd.read_csv(\"{}ICUSTAYS.csv\".format(USER_DIR))[['ICUSTAY_ID','SUBJECT_ID','INTIME','LOS']]\n",
    "stays = shuffle(stays)\n",
    "\n",
    "# delete LOS = null or LOS = 0\n",
    "stays = stays.fillna(0)\n",
    "stays = stays.loc[stays['LOS'] > 0]\n",
    "\n",
    "if numberOfStayRow > 0:\n",
    "    stays = stays[:numberOfStayRow]\n",
    "\n",
    "print('ICUStays loaded. Shape: {}'.format(stays.shape))\n",
    "print(stays.columns.values)\n",
    "# stays"
   ]
  },
  {
   "cell_type": "markdown",
   "metadata": {},
   "source": [
    "## Hours Granularity"
   ]
  },
  {
   "cell_type": "code",
   "execution_count": 6,
   "metadata": {},
   "outputs": [],
   "source": [
    "if hoursGranularity == 1: \n",
    "    # Option 1: Accuracy +/- 0.1 days = 2 hours and 24 minutes\n",
    "    # For accuracy, we multiply that by 10. So, LOS=36 means 3.6 days. LOS=113 means 11.3 days\n",
    "    stays['LOS'] = stays['LOS'].apply(lambda x: int(x * 10))\n",
    "elif hoursGranularity == 2:\n",
    "    # Option 2: Accuracy +/- 0.5 days = 12 hours\n",
    "    # For accuracy, we multiply that by 10, and round up for half-day (0, 5, 10, 15, 20, 25...)\n",
    "    # For example, LOS=35 means 3.5 days. LOS=110 means 11 days\n",
    "    stays['LOS'] = stays['LOS'].apply(lambda x: int(round(x * 2, 0) * 5))\n",
    "elif hoursGranularity == 3:\n",
    "    # Option 3: Accuracy +/- 1 day = 24 hours\n",
    "    stays['LOS'] = stays['LOS'].apply(lambda x: int(round(x,0)))\n",
    "elif hoursGranularity == 4:\n",
    "    # Option 4: Accuracy +/- 2 day = 48 hours\n",
    "    # For example, 0 means 0-1 day, 2 means 2-3 days, 4 means 4-5 days, 6 means 6-7 days, ...\n",
    "    stays['LOS'] = stays['LOS'].apply(lambda x: round(x,0)//2*2)    \n",
    "elif hoursGranularity == 5:\n",
    "    # Option 5: Accuracy is a binary choice: Less than 5 days or not\n",
    "    stays['LOS'] = stays['LOS'].apply(lambda x: 1 if x >= 5 else 0)\n",
    "# stays"
   ]
  },
  {
   "cell_type": "markdown",
   "metadata": {},
   "source": [
    "## Patients"
   ]
  },
  {
   "cell_type": "code",
   "execution_count": 7,
   "metadata": {},
   "outputs": [
    {
     "name": "stdout",
     "output_type": "stream",
     "text": [
      "Patients loaded. Shape: (46520, 3)\n",
      "ICUStays joined with Patients. Shape: (61522, 5)\n",
      "['GENDER' 'AGE' 'ICUSTAY_ID' 'INTIME' 'LOS']\n"
     ]
    }
   ],
   "source": [
    "patients = pd.read_csv('{}PATIENTS.csv'.format(USER_DIR), encoding='latin1' )[['SUBJECT_ID', 'GENDER', 'DOB']]\n",
    "print('Patients loaded. Shape: {}'.format(patients.shape))\n",
    "stays = pd.merge(patients, stays, on='SUBJECT_ID', how='inner').drop(['SUBJECT_ID'], axis=1)\n",
    "\n",
    "stays.rename(columns={'DOB': 'AGE'}, inplace=True)\n",
    "\n",
    "# converting gender to a binary 1 or 0\n",
    "stays['GENDER'] = stays['GENDER'].apply(lambda x: 0 if x == 'F' else 1)\n",
    "\n",
    "# converting age \n",
    "stays['AGE']    = stays['AGE'].apply(lambda x: abs(int(x[:4]) - datetime.now().year)//10 if x.find('-') > 0 else 0)\n",
    "print('ICUStays joined with Patients. Shape: {}'.format(stays.shape))\n",
    "print(stays.columns.values)"
   ]
  },
  {
   "cell_type": "code",
   "execution_count": 11,
   "metadata": {},
   "outputs": [],
   "source": [
    "recordsToRead=1000000"
   ]
  },
  {
   "cell_type": "markdown",
   "metadata": {},
   "source": [
    "* <h3>Input_Events_CV"
   ]
  },
  {
   "cell_type": "code",
   "execution_count": 8,
   "metadata": {
    "scrolled": true
   },
   "outputs": [
    {
     "name": "stderr",
     "output_type": "stream",
     "text": [
      "/anaconda3/lib/python3.6/site-packages/IPython/core/interactiveshell.py:2728: DtypeWarning: Columns (20,21) have mixed types. Specify dtype option on import or set low_memory=False.\n",
      "  interactivity=interactivity, compiler=compiler, result=result)\n"
     ]
    },
    {
     "name": "stdout",
     "output_type": "stream",
     "text": [
      "(1000000, 3) loaded. Shape: INPUTEVENTS_CV\n",
      "INPUTEVENTS_CV filtered. Shape: (997467, 2)\n"
     ]
    }
   ],
   "source": [
    "inputeventscv = pd.read_csv('{}INPUTEVENTS_CV.csv'.format(USER_DIR), encoding='latin1', nrows=recordsToRead)[['ICUSTAY_ID', 'STORETIME', 'ITEMID']]\n",
    "inputeventscv = createEventsTable(inputeventscv, 'INPUTEVENTS_CV', 'STORETIME')"
   ]
  },
  {
   "cell_type": "markdown",
   "metadata": {},
   "source": [
    "* <h3>Procedure_Events"
   ]
  },
  {
   "cell_type": "code",
   "execution_count": 12,
   "metadata": {},
   "outputs": [
    {
     "name": "stdout",
     "output_type": "stream",
     "text": [
      "(258066, 3) loaded. Shape: PROCEDUREEVENTS_MV\n",
      "PROCEDUREEVENTS_MV filtered. Shape: (257978, 2)\n"
     ]
    }
   ],
   "source": [
    "# Load data\n",
    "procedureevents = pd.read_csv('{}PROCEDUREEVENTS_MV.csv'.format(USER_DIR), nrows=recordsToRead)[['ICUSTAY_ID', 'STARTTIME', 'ITEMID']]\n",
    "procedureevents = createEventsTable(procedureevents, 'PROCEDUREEVENTS_MV', 'STARTTIME')"
   ]
  },
  {
   "cell_type": "markdown",
   "metadata": {},
   "source": [
    "* <h3>Datetime_Events"
   ]
  },
  {
   "cell_type": "code",
   "execution_count": 13,
   "metadata": {
    "scrolled": true
   },
   "outputs": [
    {
     "name": "stdout",
     "output_type": "stream",
     "text": [
      "(1000000, 3) loaded. Shape: DATETIMEEVENTS\n",
      "DATETIMEEVENTS filtered. Shape: (997715, 2)\n"
     ]
    }
   ],
   "source": [
    "# Load data\n",
    "datetimeevents = pd.read_csv('{}DATETIMEEVENTS.csv'.format(USER_DIR), encoding='latin1', nrows=recordsToRead)[['ICUSTAY_ID', 'STORETIME', 'ITEMID']]\n",
    "datetimeevents = createEventsTable(datetimeevents, 'DATETIMEEVENTS', 'STORETIME')"
   ]
  },
  {
   "cell_type": "markdown",
   "metadata": {},
   "source": [
    "* <h3>Input_Events_MV"
   ]
  },
  {
   "cell_type": "code",
   "execution_count": 14,
   "metadata": {
    "scrolled": true
   },
   "outputs": [
    {
     "name": "stdout",
     "output_type": "stream",
     "text": [
      "(1000000, 3) loaded. Shape: INPUTEVENTS_MV\n",
      "INPUTEVENTS_MV filtered. Shape: (999998, 2)\n"
     ]
    }
   ],
   "source": [
    "# Load data\n",
    "inputeventsmv = pd.read_csv('{}INPUTEVENTS_MV.csv'.format(USER_DIR), encoding='latin1', nrows=recordsToRead)[['ICUSTAY_ID', 'STARTTIME', 'ITEMID']]\n",
    "inputeventsmv = createEventsTable(inputeventsmv, 'INPUTEVENTS_MV', 'STARTTIME')"
   ]
  },
  {
   "cell_type": "markdown",
   "metadata": {},
   "source": [
    "* <h3>Master = Union All Tables "
   ]
  },
  {
   "cell_type": "code",
   "execution_count": 16,
   "metadata": {},
   "outputs": [
    {
     "name": "stdout",
     "output_type": "stream",
     "text": [
      "Master built. Shape: (3253158, 2)\n"
     ]
    }
   ],
   "source": [
    "# If you add a new table, don't forget to put it into the list below \n",
    "master = pd.concat([inputeventscv, procedureevents, datetimeevents, inputeventsmv])\n",
    "print('Master built. Shape: {}'.format(master.shape))\n",
    "# master"
   ]
  },
  {
   "cell_type": "markdown",
   "metadata": {},
   "source": [
    "* <h3>Pivot All Columns"
   ]
  },
  {
   "cell_type": "code",
   "execution_count": 17,
   "metadata": {},
   "outputs": [
    {
     "name": "stdout",
     "output_type": "stream",
     "text": [
      "Number of Items/Columns need to be added:  374\n",
      "Master built. Shape: (53155, 377)\n",
      "[30056 30013 30021 30095 30101 30018 30102 30015 30066 30108 30063 30106\n",
      " 30071 225401 225454 225792 225402 224560 225439 225459 225432 224274\n",
      " 224263 224385 225752 224275 225400 225462 226237 224264 225451 225448\n",
      " 225446 225465 225444 225433 221214 224277 223253 227194 225470 225469\n",
      " 221223 225430 221217 225441 225447 225479 224270 225802 225399 225814\n",
      " 225805 225445 226236 225794 225202 225442 221255 225476 225434 224273\n",
      " 225450 224276 225966 225457 225436 224566 221216 225821 225443 226477\n",
      " 225464 225819 225472 225816 225427 225204 225203 225315 225789 226476\n",
      " 225967 225437 224267 225468 225817 225474 225449 225475 225429 225205\n",
      " 225440 225477 227550 225460 225463 227551 225466 221219 225199 224269\n",
      " 224272 224268 226124 225820 226474 226475 225461 227712 227711 227714\n",
      " 225428 227713 227715 227719 225467 228129 228125 228128 228127 228130\n",
      " 228126 228136 228201 228202 228228 228286 228169 3411 5684 5685 5686 5687\n",
      " 5688 6703 6704 5689 5690 5691 225166 225944 225893 220949 225799 225158\n",
      " 226453 225879 225869 221036 225797 225828 221456 221794 223258 221906\n",
      " 226361 225970 225931 225892 223259 223262 225936 221668 221744 223260\n",
      " 225943 225168 226452 225837 220862 225851 226048 226089 225834 225798\n",
      " 225929 225884 225883 225974 222011 225909 225823 225170 225942 222168\n",
      " 222315 225152 225910 221828 221385 225845 225855 221824 225833 226364\n",
      " 225975 225154 226880 220952 225159 225825 227091 221662 225848 220970\n",
      " 221689 221468 223261 225835 225859 222056 225888 225911 225935 221749\n",
      " 225908 225830 220995 220950 225847 225153 225907 221833 225913 225899\n",
      " 225838 225860 225842 225843 225853 225941 225150 221347 223257 225930\n",
      " 225863 225906 225875 225881 220864 226367 227070 226369 226368 226375\n",
      " 225916 225917 225850 225928 225947 225969 225948 222062 225905 225920\n",
      " 225827 221319 221282 225889 226376 225873 221623 225832 221986 225912\n",
      " 226028 225844 225871 225885 225865 221653 222021 221429 226027 226365\n",
      " 225174 225156 225902 221555 227536 227525 227535 227533 227522 225161\n",
      " 226044 225171 226371 226372 222318 227523 225155 227528 227526 225973\n",
      " 227530 227534 227531 225866 222051 221712 225840 226882 225890 227524\n",
      " 227529 225862 221289 225903 221393 225898 227532 222042 226877 226046\n",
      " 226875 221207 226031 225934 227520 226036 226051 225915 226363 225147\n",
      " 226016 226047 227072 225937 225795 226370 225151 225945 226023 227370\n",
      " 226377 226030 227695 222151 226020 226019 225801 227689 225167 226050\n",
      " 221261 227694 227690 225914 225157 227691 225876 221733 227699 227518\n",
      " 225996 227692 226022 225148 225173 227696 221342 227071 226017 225993\n",
      " 225877 226049 227975 227973 227979 227974 225994 222190 'GENDER' 'AGE'\n",
      " 'LOS']\n"
     ]
    }
   ],
   "source": [
    "print('Number of Items/Columns need to be added: ', master.ITEMID.unique().size)\n",
    "for x in master.ITEMID.unique():\n",
    "    master[x]=(master.ITEMID==x).astype(int)\n",
    "    \n",
    "master = master.groupby(['ICUSTAY_ID']).sum().reset_index()\n",
    "\n",
    "master = pd.merge(master, stays, on='ICUSTAY_ID', how='inner')\n",
    "master.drop(['ITEMID','ICUSTAY_ID','INTIME'], axis=1, inplace=True)\n",
    "print('Master built. Shape: {}'.format(master.shape))\n",
    "print(master.columns.values)"
   ]
  },
  {
   "cell_type": "markdown",
   "metadata": {},
   "source": [
    "## Model"
   ]
  },
  {
   "cell_type": "code",
   "execution_count": 18,
   "metadata": {},
   "outputs": [],
   "source": [
    "# Split-out validation dataset\n",
    "col = len(master.columns) - 1\n",
    "array = master.values   #numpy array\n",
    "X = array[:,0:col]# first N columns\n",
    "Y = array[:,col]  # LOS column"
   ]
  },
  {
   "cell_type": "code",
   "execution_count": 19,
   "metadata": {},
   "outputs": [
    {
     "name": "stdout",
     "output_type": "stream",
     "text": [
      "[[10  5  5 ...  0  1  7]\n",
      " [ 0  0  0 ...  0  0  8]\n",
      " [ 0  5  0 ...  0  1  8]\n",
      " ...\n",
      " [ 0  0  0 ...  0  0  3]\n",
      " [ 0  0  0 ...  0  0  3]\n",
      " [ 0  0  0 ...  0  1 13]]\n"
     ]
    }
   ],
   "source": [
    "validation_size = 0.20\n",
    "seed = 7\n",
    "X_train, X_validation, Y_train, Y_validation = model_selection.train_test_split(X, Y, test_size=validation_size, random_state=seed)\n",
    "# print('{}'.format(X_train, Y_train))"
   ]
  },
  {
   "cell_type": "code",
   "execution_count": 22,
   "metadata": {},
   "outputs": [
    {
     "name": "stdout",
     "output_type": "stream",
     "text": [
      "LR: 0.911086 (0.003507)\n",
      "KNN: 0.908452 (0.004385)\n",
      "CART: 0.885453 (0.003192)\n",
      "NB: 0.828238 (0.005612)\n",
      "RF: 0.914895 (0.004589)\n"
     ]
    }
   ],
   "source": [
    "# Test options and evaluation metric\n",
    "seed = 7\n",
    "scoring = 'accuracy'\n",
    "\n",
    "# Spot Check Algorithms\n",
    "models = []\n",
    "models.append(('LR', LogisticRegression()))\n",
    "models.append(('KNN', KNeighborsClassifier()))\n",
    "models.append(('CART', DecisionTreeClassifier()))\n",
    "models.append(('NB', GaussianNB()))\n",
    "models.append(('RF', RandomForestClassifier()))\n",
    "\n",
    "# evaluate each model in turn\n",
    "results = []\n",
    "names = []\n",
    "for name, model in models:\n",
    "    kfold = model_selection.KFold(n_splits=10, random_state=seed)\n",
    "    cv_results = model_selection.cross_val_score(model, X_train, Y_train, cv=kfold, scoring=scoring)\n",
    "    results.append(cv_results)\n",
    "    names.append(name)\n",
    "    msg = \"%s: %f (%f)\" % (name, cv_results.mean(), cv_results.std())\n",
    "    print(msg)"
   ]
  },
  {
   "cell_type": "code",
   "execution_count": 23,
   "metadata": {},
   "outputs": [
    {
     "data": {
      "image/png": "[encoded data removed]",
      "text/plain": [
       "<matplotlib.figure.Figure at 0x16b7b8080>"
      ]
     },
     "metadata": {},
     "output_type": "display_data"
    }
   ],
   "source": [
    "# Compare Algorithms\n",
    "fig = plt.figure()\n",
    "fig.suptitle('Algorithm Comparison')\n",
    "ax = fig.add_subplot(111)\n",
    "plt.boxplot(results)\n",
    "ax.set_xticklabels(names)\n",
    "plt.show()"
   ]
  },
  {
   "cell_type": "code",
   "execution_count": 27,
   "metadata": {},
   "outputs": [
    {
     "name": "stdout",
     "output_type": "stream",
     "text": [
      "[]\n",
      "[array([[7932,  233],\n",
      "       [ 755, 1711]]), array([[7969,  196],\n",
      "       [ 765, 1701]]), array([[7543,  622],\n",
      "       [ 626, 1840]]), array([[7788,  377],\n",
      "       [1456, 1010]]), array([[7942,  223],\n",
      "       [ 674, 1792]])]\n"
     ]
    }
   ],
   "source": [
    "# Make predictions on validation dataset\n",
    "\n",
    "messages = []\n",
    "matrices = []\n",
    "for name, model in models:\n",
    "    model.fit(X_train, Y_train)\n",
    "    prediction = model.predict(X_validation)\n",
    "    \n",
    "    accuracyScore = accuracy_score(Y_validation, prediction)\n",
    "    confusionMatrix = confusion_matrix(Y_validation, prediction)\n",
    "    matrices.append(confusionMatrix)\n",
    "\n",
    "print(messages)\n",
    "print(matrices)"
   ]
  },
  {
   "cell_type": "markdown",
   "metadata": {},
   "source": [
    "## Conclusion"
   ]
  },
  {
   "cell_type": "markdown",
   "metadata": {},
   "source": [
    "<h4> Our approach is consistent given the different parameters used. The accuracy gets higher as we adjust the parameter to either < 5 days or 5 days or more. Overall, preprocessing the data involved most of the events table which gave us insight on which items were used for each icu stay. And then we aggregate how often these items were used per icu stay. As a result, this gave us surprisingly good accuracy up to 91% using the random classifier model in predicting the length of stay for each patient. <h4>"
   ]
  },
  {
   "cell_type": "code",
   "execution_count": null,
   "metadata": {},
   "outputs": [],
   "source": []
  }
 ],
 "metadata": {
  "kernelspec": {
   "display_name": "Python 3",
   "language": "python",
   "name": "python3"
  },
  "language_info": {
   "codemirror_mode": {
    "name": "ipython",
    "version": 3
   },
   "file_extension": ".py",
   "mimetype": "text/x-python",
   "name": "python",
   "nbconvert_exporter": "python",
   "pygments_lexer": "ipython3",
   "version": "3.6.4"
  }
 },
 "nbformat": 4,
 "nbformat_minor": 2
}
