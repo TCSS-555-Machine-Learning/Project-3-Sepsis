{
 "cells": [
  {
   "cell_type": "markdown",
   "metadata": {},
   "source": [
    "<h1><center>Sepsis Prediction</h1>\n",
    "<h4>TCSS 555<br>\n",
    "Spring 2018<br>\n",
    "Thuan Lam, Tood Robbins, Inno Irving Estrera</h4></center>\n"
   ]
  },
  {
   "cell_type": "markdown",
   "metadata": {},
   "source": [
    "<h2>Libraries</h2>"
   ]
  },
  {
   "cell_type": "code",
   "execution_count": 62,
   "metadata": {},
   "outputs": [],
   "source": [
    "import numpy as np\n",
    "import pandas as pd\n",
    "import matplotlib.pyplot as plt\n",
    "\n",
    "from sklearn.utils import shuffle\n",
    "from dateutil.parser import parse\n",
    "from datetime import datetime\n",
    "\n",
    "from sklearn import model_selection\n",
    "from sklearn.linear_model import LogisticRegression\n",
    "from sklearn.tree import DecisionTreeClassifier\n",
    "from sklearn.neighbors import KNeighborsClassifier\n",
    "from sklearn.discriminant_analysis import LinearDiscriminantAnalysis\n",
    "from sklearn.naive_bayes import GaussianNB\n",
    "from sklearn.svm import SVC\n",
    "from sklearn.ensemble import RandomForestClassifier\n",
    "\n",
    "from sklearn.metrics import accuracy_score\n",
    "from sklearn.metrics import confusion_matrix\n",
    "from sklearn.metrics import classification_report\n",
    "from sklearn.metrics import roc_curve, auc\n",
    "from sklearn.metrics import precision_recall_curve"
   ]
  },
  {
   "cell_type": "markdown",
   "metadata": {},
   "source": [
    "## Data"
   ]
  },
  {
   "cell_type": "code",
   "execution_count": 63,
   "metadata": {},
   "outputs": [
    {
     "name": "stdout",
     "output_type": "stream",
     "text": [
      "Current folder is /Users/innoestrera/repositories/Project-3-Sepsis\n",
      "/Users/innoestrera/Desktop/mimic3/\n"
     ]
    }
   ],
   "source": [
    "import os \n",
    "cwd = os.getcwd()\n",
    "print('Current folder is {}'.format(cwd))\n",
    "\n",
    "if os.name == \"posix\":\n",
    "    unreadable = set([       \n",
    "        \"NEW_CHARTEVENTS.csv\",\n",
    "        \"ADMISSIONS.csv\",\n",
    "        \"NEW_ICUSTAYS.csv\",\n",
    "        \"DRGCODES.csv\"\n",
    "    ])\n",
    "    USER_DIR = '/Users/innoestrera/Desktop/mimic3/';\n",
    "else:\n",
    "    USER_DIR = 'C:\\mimic3\\\\';\n",
    "print(USER_DIR)"
   ]
  },
  {
   "cell_type": "code",
   "execution_count": 64,
   "metadata": {},
   "outputs": [],
   "source": [
    "# Load datasets\n",
    "admissions = pd.read_csv(\"{}ADMISSIONS.csv\".format(USER_DIR))[['HADM_ID','SUBJECT_ID','DIAGNOSIS']]\n",
    "# convert Diagnosis to binary: 1 means sepsis\n",
    "admissions['DIAGNOSIS'] = admissions['DIAGNOSIS'].apply(lambda x : 0 if str(x).find('SEPSIS') == -1 else 1)\n",
    "# print(admissions.head(2))\n",
    "# adminssions = shuffle(stays)\n",
    "\n",
    "drugs = pd.read_csv(\"{}DRGCODES.csv\".format(USER_DIR))[['HADM_ID','SUBJECT_ID','DRG_CODE','DESCRIPTION']]\n",
    "\n",
    "stays = pd.read_csv(\"{}NEW_ICUSTAYS.csv\".format(USER_DIR))[['HADM_ID','ICUSTAY_ID']]\n",
    "# print(stays.head(1))\n",
    "\n",
    "chart = pd.read_csv(\"{}NEW_CHARTEVENTS.csv\".format(USER_DIR))\n",
    "# print(chart.head(2))"
   ]
  },
  {
   "cell_type": "markdown",
   "metadata": {},
   "source": [
    "## Create the Y Set"
   ]
  },
  {
   "cell_type": "code",
   "execution_count": 65,
   "metadata": {},
   "outputs": [],
   "source": [
    "#get a copy with 2 columns only\n",
    "find_sepsis = drugs[['HADM_ID', 'DRG_CODE']].copy()\n",
    "\n",
    "#change drug code 870, 871, 872 to 1; Otherwise, 0\n",
    "#https://www.icd10monitor.com/understanding-sepsis-an-example-of-the-convergence-of-clinical-quality-coding-reimbursement-and-audit\n",
    "find_sepsis['DRG_CODE'] = find_sepsis['DRG_CODE'].apply(lambda x: 1 if (x >= 870 and x <= 872) or (x >= 867 and x <= 869) or x == 776 or (x >= 974 and x <= 976) else 0)\n",
    "\n",
    "#sum all drugcodes grouup by HADM_ID. If the sum > 0 means HADM_ID has/had sepsis\n",
    "find_sepsis = find_sepsis.groupby(['HADM_ID']).sum().reset_index() # .sort_values(by=['DRG_CODE'], ascending=False)\n",
    "\n",
    "#convert DRG_CODE to binary: 1 means sepsis, 0 means NO\n",
    "find_sepsis['DRG_CODE'] = find_sepsis['DRG_CODE'].apply(lambda x: 1 if x > 0 else 0)\n",
    "\n",
    "#change DRG_CODR to SEPSIS, it would be easier \n",
    "find_sepsis.rename(columns={'DRG_CODE': 'SEPSIS'}, inplace=True)\n",
    "\n",
    "# print('find_sepsis: ')\n",
    "# print(find_sepsis.head(2))\n",
    "# print('admission1: ')\n",
    "# print(admissions.head(2))\n",
    "\n",
    "#merge tables to create the Y set\n",
    "admissions = pd.merge(admissions, find_sepsis, on='HADM_ID', how='left') #.drop(['SUBJECT_ID'], axis=1)\n",
    "admissions = admissions.fillna(0)\n",
    "# print('admission2: ')\n",
    "# print(admissions.head(2))\n",
    "\n",
    "# admissions.loc[admissions['SEPSIS'] > 0]"
   ]
  },
  {
   "cell_type": "markdown",
   "metadata": {},
   "source": [
    "## Create the X Set"
   ]
  },
  {
   "cell_type": "markdown",
   "metadata": {},
   "source": [
    "* <h3>Master"
   ]
  },
  {
   "cell_type": "code",
   "execution_count": 66,
   "metadata": {},
   "outputs": [],
   "source": [
    "master = pd.merge(admissions, stays, on='HADM_ID', how='inner') #.drop(['SUBJECT_ID'], axis=1)\n",
    "# print(master.head(3))"
   ]
  },
  {
   "cell_type": "markdown",
   "metadata": {},
   "source": [
    "* <h3>Get ItemIDs from ChartEvents then Add into Master"
   ]
  },
  {
   "cell_type": "code",
   "execution_count": 67,
   "metadata": {},
   "outputs": [],
   "source": [
    "# get itemsIds from ChartEvent\n",
    "for x in chart.ITEMID.unique():\n",
    "    master[x] = 0\n",
    "\n",
    "# set index\n",
    "master = master.set_index('ICUSTAY_ID')\n",
    "# print(master.head(2))"
   ]
  },
  {
   "cell_type": "markdown",
   "metadata": {},
   "source": [
    "* <h3>Put Item's Values into Master"
   ]
  },
  {
   "cell_type": "code",
   "execution_count": 68,
   "metadata": {},
   "outputs": [],
   "source": [
    "for index, row in chart.iterrows():    \n",
    "    master.loc[row['ICUSTAY_ID'], row['ITEMID']] = row['VALUE']\n",
    "# print(master.head(2))"
   ]
  },
  {
   "cell_type": "markdown",
   "metadata": {},
   "source": [
    "* <h3>Add DrugCodes into Master"
   ]
  },
  {
   "cell_type": "code",
   "execution_count": 69,
   "metadata": {
    "scrolled": true
   },
   "outputs": [
    {
     "name": "stdout",
     "output_type": "stream",
     "text": [
      "Number of Items/Columns need to be added:  3\n",
      "Master built. Shape: (51696, 19)\n"
     ]
    }
   ],
   "source": [
    "master = master.reset_index()\n",
    "drugs = drugs.loc[drugs['DRG_CODE'].isin(['870','871','872'])]\n",
    "drugColumns = pd.merge(drugs, stays, on='HADM_ID', how='inner').drop(['HADM_ID', 'SUBJECT_ID', 'DESCRIPTION'], axis=1)\n",
    "print('Number of Items/Columns need to be added: ', drugColumns.DRG_CODE.unique().size)\n",
    "for x in drugColumns.DRG_CODE.unique():\n",
    "    drugColumns[x]=(drugColumns.DRG_CODE==x).astype(int)\n",
    "    \n",
    "drugColumns = drugColumns.groupby(['ICUSTAY_ID']).sum().reset_index()\n",
    "drugColumns = drugColumns.drop(['DRG_CODE'], axis=1)\n",
    "master = pd.merge(master, drugColumns, on='ICUSTAY_ID', how='left')\n",
    "master.fillna(0)\n",
    "print('Master built. Shape: {}'.format(master.shape))\n"
   ]
  },
  {
   "cell_type": "markdown",
   "metadata": {},
   "source": [
    "* <h3>Finalize the Master"
   ]
  },
  {
   "cell_type": "code",
   "execution_count": 71,
   "metadata": {},
   "outputs": [
    {
     "name": "stdout",
     "output_type": "stream",
     "text": [
      "Master built. Shape: (51696, 17)\n",
      "['index' 'DIAGNOSIS' 220615 225690 198 828 1525 490 226755 438 2981 227010\n",
      " 227023 870 871 872 'SEPSIS']\n"
     ]
    },
    {
     "data": {
      "text/plain": [
       "index        False\n",
       "DIAGNOSIS    False\n",
       "220615       False\n",
       "225690       False\n",
       "198          False\n",
       "828          False\n",
       "1525         False\n",
       "490          False\n",
       "226755       False\n",
       "438          False\n",
       "2981         False\n",
       "227010       False\n",
       "227023       False\n",
       "870          False\n",
       "871          False\n",
       "872          False\n",
       "SEPSIS       False\n",
       "dtype: bool"
      ]
     },
     "execution_count": 71,
     "metadata": {},
     "output_type": "execute_result"
    }
   ],
   "source": [
    "# move the SEPSIS column to the last \n",
    "cols = master.columns.tolist()\n",
    "cols.insert(len(master.columns) - 1, cols.pop(cols.index('SEPSIS')))\n",
    "master = master.reindex(columns= cols).reset_index()\n",
    "\n",
    "# remove unnecessary columns\n",
    "master.drop(['ICUSTAY_ID','HADM_ID','SUBJECT_ID'], axis=1, inplace=True)\n",
    "# print(master.head(2))\n",
    "print('Master built. Shape: {}'.format(master.shape))\n",
    "print(master.columns.values)\n",
    "\n",
    "master.fillna(0, inplace=True)\n",
    "master = shuffle(master)\n",
    "# master = master[:30000]\n",
    "\n",
    "# checking null\n",
    "ol_mask=master.isnull().any(axis=0) \n",
    "ol_mask"
   ]
  },
  {
   "cell_type": "code",
   "execution_count": 72,
   "metadata": {},
   "outputs": [
    {
     "name": "stdout",
     "output_type": "stream",
     "text": [
      "['DIAGNOSIS' 220615 225690 198 828 1525 490 226755 438 2981 227010 227023\n",
      " 870 871 872 'SEPSIS']\n"
     ]
    }
   ],
   "source": [
    "# dropping unneeded index column\n",
    "master = master.drop(['index'], axis=1)\n",
    "print(master.columns.values)"
   ]
  },
  {
   "cell_type": "code",
   "execution_count": 80,
   "metadata": {},
   "outputs": [
    {
     "data": {
      "text/html": [
       "<div>\n",
       "<style scoped>\n",
       "    .dataframe tbody tr th:only-of-type {\n",
       "        vertical-align: middle;\n",
       "    }\n",
       "\n",
       "    .dataframe tbody tr th {\n",
       "        vertical-align: top;\n",
       "    }\n",
       "\n",
       "    .dataframe thead th {\n",
       "        text-align: right;\n",
       "    }\n",
       "</style>\n",
       "<table border=\"1\" class=\"dataframe\">\n",
       "  <thead>\n",
       "    <tr style=\"text-align: right;\">\n",
       "      <th></th>\n",
       "      <th>DIAGNOSIS</th>\n",
       "      <th>220615</th>\n",
       "      <th>225690</th>\n",
       "      <th>198</th>\n",
       "      <th>828</th>\n",
       "      <th>1525</th>\n",
       "      <th>490</th>\n",
       "      <th>226755</th>\n",
       "      <th>438</th>\n",
       "      <th>2981</th>\n",
       "      <th>227010</th>\n",
       "      <th>227023</th>\n",
       "      <th>870</th>\n",
       "      <th>871</th>\n",
       "      <th>872</th>\n",
       "      <th>SEPSIS</th>\n",
       "    </tr>\n",
       "  </thead>\n",
       "  <tbody>\n",
       "    <tr>\n",
       "      <th>36874</th>\n",
       "      <td>0</td>\n",
       "      <td>2.000000</td>\n",
       "      <td>0.45</td>\n",
       "      <td>0.000000</td>\n",
       "      <td>0.000000</td>\n",
       "      <td>0.000000</td>\n",
       "      <td>0.0</td>\n",
       "      <td>0.0</td>\n",
       "      <td>0.0</td>\n",
       "      <td>0.0</td>\n",
       "      <td>0.0</td>\n",
       "      <td>0.0</td>\n",
       "      <td>0.0</td>\n",
       "      <td>0.0</td>\n",
       "      <td>0.0</td>\n",
       "      <td>0.0</td>\n",
       "    </tr>\n",
       "    <tr>\n",
       "      <th>15893</th>\n",
       "      <td>0</td>\n",
       "      <td>0.000000</td>\n",
       "      <td>0.00</td>\n",
       "      <td>15.000000</td>\n",
       "      <td>274.500000</td>\n",
       "      <td>0.650000</td>\n",
       "      <td>0.0</td>\n",
       "      <td>0.0</td>\n",
       "      <td>0.0</td>\n",
       "      <td>0.0</td>\n",
       "      <td>0.0</td>\n",
       "      <td>0.0</td>\n",
       "      <td>0.0</td>\n",
       "      <td>0.0</td>\n",
       "      <td>0.0</td>\n",
       "      <td>0.0</td>\n",
       "    </tr>\n",
       "    <tr>\n",
       "      <th>2382</th>\n",
       "      <td>0</td>\n",
       "      <td>0.000000</td>\n",
       "      <td>0.00</td>\n",
       "      <td>15.000000</td>\n",
       "      <td>250.333333</td>\n",
       "      <td>0.000000</td>\n",
       "      <td>0.0</td>\n",
       "      <td>0.0</td>\n",
       "      <td>0.0</td>\n",
       "      <td>0.0</td>\n",
       "      <td>0.0</td>\n",
       "      <td>0.0</td>\n",
       "      <td>0.0</td>\n",
       "      <td>0.0</td>\n",
       "      <td>0.0</td>\n",
       "      <td>0.0</td>\n",
       "    </tr>\n",
       "    <tr>\n",
       "      <th>4595</th>\n",
       "      <td>0</td>\n",
       "      <td>0.000000</td>\n",
       "      <td>0.00</td>\n",
       "      <td>12.333333</td>\n",
       "      <td>74.000000</td>\n",
       "      <td>0.000000</td>\n",
       "      <td>0.0</td>\n",
       "      <td>0.0</td>\n",
       "      <td>0.0</td>\n",
       "      <td>0.0</td>\n",
       "      <td>0.0</td>\n",
       "      <td>0.0</td>\n",
       "      <td>0.0</td>\n",
       "      <td>0.0</td>\n",
       "      <td>0.0</td>\n",
       "      <td>0.0</td>\n",
       "    </tr>\n",
       "    <tr>\n",
       "      <th>5429</th>\n",
       "      <td>0</td>\n",
       "      <td>0.000000</td>\n",
       "      <td>0.00</td>\n",
       "      <td>7.000000</td>\n",
       "      <td>84.000000</td>\n",
       "      <td>0.000000</td>\n",
       "      <td>0.0</td>\n",
       "      <td>0.0</td>\n",
       "      <td>0.0</td>\n",
       "      <td>0.0</td>\n",
       "      <td>0.0</td>\n",
       "      <td>0.0</td>\n",
       "      <td>0.0</td>\n",
       "      <td>0.0</td>\n",
       "      <td>0.0</td>\n",
       "      <td>0.0</td>\n",
       "    </tr>\n",
       "    <tr>\n",
       "      <th>6383</th>\n",
       "      <td>0</td>\n",
       "      <td>0.000000</td>\n",
       "      <td>0.00</td>\n",
       "      <td>7.714286</td>\n",
       "      <td>182.000000</td>\n",
       "      <td>1.833333</td>\n",
       "      <td>0.0</td>\n",
       "      <td>0.0</td>\n",
       "      <td>0.0</td>\n",
       "      <td>0.0</td>\n",
       "      <td>0.0</td>\n",
       "      <td>0.0</td>\n",
       "      <td>0.0</td>\n",
       "      <td>0.0</td>\n",
       "      <td>0.0</td>\n",
       "      <td>0.0</td>\n",
       "    </tr>\n",
       "    <tr>\n",
       "      <th>51436</th>\n",
       "      <td>0</td>\n",
       "      <td>1.633333</td>\n",
       "      <td>0.00</td>\n",
       "      <td>0.000000</td>\n",
       "      <td>0.000000</td>\n",
       "      <td>0.000000</td>\n",
       "      <td>0.0</td>\n",
       "      <td>0.0</td>\n",
       "      <td>0.0</td>\n",
       "      <td>0.0</td>\n",
       "      <td>0.0</td>\n",
       "      <td>0.0</td>\n",
       "      <td>0.0</td>\n",
       "      <td>0.0</td>\n",
       "      <td>0.0</td>\n",
       "      <td>0.0</td>\n",
       "    </tr>\n",
       "    <tr>\n",
       "      <th>31658</th>\n",
       "      <td>0</td>\n",
       "      <td>0.500000</td>\n",
       "      <td>0.00</td>\n",
       "      <td>0.000000</td>\n",
       "      <td>0.000000</td>\n",
       "      <td>0.000000</td>\n",
       "      <td>0.0</td>\n",
       "      <td>0.0</td>\n",
       "      <td>0.0</td>\n",
       "      <td>0.0</td>\n",
       "      <td>0.0</td>\n",
       "      <td>0.0</td>\n",
       "      <td>0.0</td>\n",
       "      <td>0.0</td>\n",
       "      <td>0.0</td>\n",
       "      <td>0.0</td>\n",
       "    </tr>\n",
       "    <tr>\n",
       "      <th>26718</th>\n",
       "      <td>0</td>\n",
       "      <td>0.000000</td>\n",
       "      <td>0.00</td>\n",
       "      <td>8.375000</td>\n",
       "      <td>211.500000</td>\n",
       "      <td>1.350000</td>\n",
       "      <td>0.0</td>\n",
       "      <td>0.0</td>\n",
       "      <td>0.0</td>\n",
       "      <td>0.0</td>\n",
       "      <td>0.0</td>\n",
       "      <td>0.0</td>\n",
       "      <td>0.0</td>\n",
       "      <td>0.0</td>\n",
       "      <td>0.0</td>\n",
       "      <td>0.0</td>\n",
       "    </tr>\n",
       "    <tr>\n",
       "      <th>38388</th>\n",
       "      <td>0</td>\n",
       "      <td>0.650000</td>\n",
       "      <td>0.00</td>\n",
       "      <td>0.000000</td>\n",
       "      <td>0.000000</td>\n",
       "      <td>0.000000</td>\n",
       "      <td>0.0</td>\n",
       "      <td>0.0</td>\n",
       "      <td>0.0</td>\n",
       "      <td>0.0</td>\n",
       "      <td>0.0</td>\n",
       "      <td>0.0</td>\n",
       "      <td>0.0</td>\n",
       "      <td>0.0</td>\n",
       "      <td>0.0</td>\n",
       "      <td>0.0</td>\n",
       "    </tr>\n",
       "  </tbody>\n",
       "</table>\n",
       "</div>"
      ],
      "text/plain": [
       "       DIAGNOSIS    220615  225690        198         828      1525  490  \\\n",
       "36874          0  2.000000    0.45   0.000000    0.000000  0.000000  0.0   \n",
       "15893          0  0.000000    0.00  15.000000  274.500000  0.650000  0.0   \n",
       "2382           0  0.000000    0.00  15.000000  250.333333  0.000000  0.0   \n",
       "4595           0  0.000000    0.00  12.333333   74.000000  0.000000  0.0   \n",
       "5429           0  0.000000    0.00   7.000000   84.000000  0.000000  0.0   \n",
       "6383           0  0.000000    0.00   7.714286  182.000000  1.833333  0.0   \n",
       "51436          0  1.633333    0.00   0.000000    0.000000  0.000000  0.0   \n",
       "31658          0  0.500000    0.00   0.000000    0.000000  0.000000  0.0   \n",
       "26718          0  0.000000    0.00   8.375000  211.500000  1.350000  0.0   \n",
       "38388          0  0.650000    0.00   0.000000    0.000000  0.000000  0.0   \n",
       "\n",
       "       226755  438  2981  227010  227023  870  871  872  SEPSIS  \n",
       "36874     0.0  0.0   0.0     0.0     0.0  0.0  0.0  0.0     0.0  \n",
       "15893     0.0  0.0   0.0     0.0     0.0  0.0  0.0  0.0     0.0  \n",
       "2382      0.0  0.0   0.0     0.0     0.0  0.0  0.0  0.0     0.0  \n",
       "4595      0.0  0.0   0.0     0.0     0.0  0.0  0.0  0.0     0.0  \n",
       "5429      0.0  0.0   0.0     0.0     0.0  0.0  0.0  0.0     0.0  \n",
       "6383      0.0  0.0   0.0     0.0     0.0  0.0  0.0  0.0     0.0  \n",
       "51436     0.0  0.0   0.0     0.0     0.0  0.0  0.0  0.0     0.0  \n",
       "31658     0.0  0.0   0.0     0.0     0.0  0.0  0.0  0.0     0.0  \n",
       "26718     0.0  0.0   0.0     0.0     0.0  0.0  0.0  0.0     0.0  \n",
       "38388     0.0  0.0   0.0     0.0     0.0  0.0  0.0  0.0     0.0  "
      ]
     },
     "execution_count": 80,
     "metadata": {},
     "output_type": "execute_result"
    }
   ],
   "source": [
    "master.head(n=10)"
   ]
  },
  {
   "cell_type": "markdown",
   "metadata": {},
   "source": [
    "## Analyze"
   ]
  },
  {
   "cell_type": "code",
   "execution_count": 73,
   "metadata": {},
   "outputs": [
    {
     "data": {
      "text/html": [
       "<div>\n",
       "<style scoped>\n",
       "    .dataframe tbody tr th:only-of-type {\n",
       "        vertical-align: middle;\n",
       "    }\n",
       "\n",
       "    .dataframe tbody tr th {\n",
       "        vertical-align: top;\n",
       "    }\n",
       "\n",
       "    .dataframe thead th {\n",
       "        text-align: right;\n",
       "    }\n",
       "</style>\n",
       "<table border=\"1\" class=\"dataframe\">\n",
       "  <thead>\n",
       "    <tr style=\"text-align: right;\">\n",
       "      <th></th>\n",
       "      <th>SEPSIS</th>\n",
       "      <th>sepsis_counts</th>\n",
       "      <th>total_stays</th>\n",
       "      <th>sepsis_percent</th>\n",
       "    </tr>\n",
       "  </thead>\n",
       "  <tbody>\n",
       "    <tr>\n",
       "      <th>0</th>\n",
       "      <td>1.0</td>\n",
       "      <td>1815</td>\n",
       "      <td>49881</td>\n",
       "      <td>3.63866</td>\n",
       "    </tr>\n",
       "  </tbody>\n",
       "</table>\n",
       "</div>"
      ],
      "text/plain": [
       "   SEPSIS  sepsis_counts  total_stays  sepsis_percent\n",
       "0     1.0           1815        49881         3.63866"
      ]
     },
     "execution_count": 73,
     "metadata": {},
     "output_type": "execute_result"
    },
    {
     "data": {
      "image/png": "[encoded data removed]",
      "text/plain": [
       "<matplotlib.figure.Figure at 0x110de0b38>"
      ]
     },
     "metadata": {},
     "output_type": "display_data"
    }
   ],
   "source": [
    "sepsis_only = master[master['SEPSIS']==1]\n",
    "\n",
    "fig, axes = plt.subplots(nrows=2, ncols=4, figsize=(15,15))\n",
    "fig.tight_layout() # Or equivalently,  \"plt.tight_layout()\"\n",
    "fig.set_size_inches(20, 10)\n",
    "plt.subplots_adjust(wspace=1, hspace=1)\n",
    "\n",
    "# Gender\n",
    "g = sepsis_only.groupby(['SEPSIS']).size().reset_index(name='sepsis_counts')\n",
    "g['total_stays'] = master.groupby(['SEPSIS']).size().reset_index(name='total_stays')['total_stays']\n",
    "g['sepsis_percent'] = g.apply(lambda row: row.sepsis_counts / row.total_stays * 100, axis=1)\n",
    "# g = g.drop(columns=['sepsis_counts','total_stays'])\n",
    "# g.iloc[0, g.columns.get_loc('SEPSIS')] = 'No Sepsis'\n",
    "# g.iloc[1, g.columns.get_loc('SEPSIS')] = 'Sepsis'\n",
    "# g = g.set_index('gender')\n",
    "# g.plot.bar(subplots=True, legend=None, ax=axes[0,0], rot=0, fontsize=12)"
   ]
  },
  {
   "cell_type": "markdown",
   "metadata": {},
   "source": [
    "## Model"
   ]
  },
  {
   "cell_type": "code",
   "execution_count": 74,
   "metadata": {},
   "outputs": [],
   "source": [
    "# Split-out validation dataset\n",
    "col = len(master.columns) - 1\n",
    "array = master.values   #numpy array\n",
    "X = array[:,0:col]# first N columns\n",
    "Y = array[:,col]  # SEPSIS column"
   ]
  },
  {
   "cell_type": "code",
   "execution_count": 75,
   "metadata": {},
   "outputs": [],
   "source": [
    "validation_size = 0.20\n",
    "seed = 7\n",
    "X_train, X_validation, Y_train, Y_validation = model_selection.train_test_split(X, Y, test_size=validation_size, random_state=seed)\n",
    "# print('{}'.format(X_train, Y_train))"
   ]
  },
  {
   "cell_type": "code",
   "execution_count": 76,
   "metadata": {},
   "outputs": [
    {
     "name": "stdout",
     "output_type": "stream",
     "text": [
      "LR: 0.997050 (0.001053)\n",
      "KNN: 0.988853 (0.001614)\n",
      "CART: 0.995647 (0.001238)\n",
      "NB: 0.980680 (0.003975)\n",
      "RF: 0.996711 (0.001104)\n"
     ]
    }
   ],
   "source": [
    "# Test options and evaluation metric\n",
    "seed = 7\n",
    "scoring = 'accuracy'\n",
    "\n",
    "# Spot Check Algorithms\n",
    "models = []\n",
    "models.append(('LR', LogisticRegression()))\n",
    "models.append(('KNN', KNeighborsClassifier()))\n",
    "models.append(('CART', DecisionTreeClassifier()))\n",
    "models.append(('NB', GaussianNB()))\n",
    "models.append(('RF', RandomForestClassifier()))\n",
    "\n",
    "# evaluate each model in turn\n",
    "results = []\n",
    "names = []\n",
    "for name, model in models:\n",
    "    kfold = model_selection.KFold(n_splits=10, random_state=seed)\n",
    "    cv_results = model_selection.cross_val_score(model, X_train, Y_train, cv=kfold, scoring=scoring)\n",
    "    results.append(cv_results)\n",
    "    names.append(name)\n",
    "    msg = \"%s: %f (%f)\" % (name, cv_results.mean(), cv_results.std())\n",
    "    print(msg)"
   ]
  },
  {
   "cell_type": "code",
   "execution_count": 77,
   "metadata": {},
   "outputs": [
    {
     "data": {
      "image/png": "[encoded data removed]",
      "text/plain": [
       "<matplotlib.figure.Figure at 0x119633be0>"
      ]
     },
     "metadata": {},
     "output_type": "display_data"
    }
   ],
   "source": [
    "# Compare Algorithms\n",
    "fig = plt.figure()\n",
    "fig.suptitle('Algorithm Comparison')\n",
    "ax = fig.add_subplot(111)\n",
    "plt.boxplot(results)\n",
    "ax.set_xticklabels(names)\n",
    "plt.show()"
   ]
  },
  {
   "cell_type": "code",
   "execution_count": 83,
   "metadata": {
    "scrolled": false
   },
   "outputs": [
    {
     "name": "stdout",
     "output_type": "stream",
     "text": [
      "accuracy 0.9965183752417794\n",
      "confusion Matrix [[9988    0]\n",
      " [  36  316]]\n",
      "precision [0.03404255 1.         1.        ]\n",
      "recall [1.         0.89772727 0.        ]\n",
      "sensitivity 1.0\n",
      "specificity 0.8977272727272727\n",
      "stuff (array([0., 1.]), array([0.89772727, 1.        ]), array([1., 0.]))\n"
     ]
    },
    {
     "data": {
      "image/png": "[encoded data removed]",
      "text/plain": [
       "<matplotlib.figure.Figure at 0x110e22d30>"
      ]
     },
     "metadata": {},
     "output_type": "display_data"
    },
    {
     "data": {
      "image/png": "[encoded data removed]",
      "text/plain": [
       "<matplotlib.figure.Figure at 0x114073b70>"
      ]
     },
     "metadata": {},
     "output_type": "display_data"
    },
    {
     "name": "stdout",
     "output_type": "stream",
     "text": [
      "accuracy 0.9895551257253384\n",
      "confusion Matrix [[9988    0]\n",
      " [ 108  244]]\n",
      "precision [0.03404255 1.         1.        ]\n",
      "recall [1.         0.69318182 0.        ]\n",
      "sensitivity 1.0\n",
      "specificity 0.6931818181818182\n",
      "stuff (array([0., 1.]), array([0.69318182, 1.        ]), array([1., 0.]))\n"
     ]
    },
    {
     "data": {
      "image/png": "[encoded data removed]",
      "text/plain": [
       "<matplotlib.figure.Figure at 0x119b19400>"
      ]
     },
     "metadata": {},
     "output_type": "display_data"
    },
    {
     "data": {
      "image/png": "[encoded data removed]",
      "text/plain": [
       "<matplotlib.figure.Figure at 0x11a67b128>"
      ]
     },
     "metadata": {},
     "output_type": "display_data"
    },
    {
     "name": "stdout",
     "output_type": "stream",
     "text": [
      "accuracy 0.9950676982591876\n",
      "confusion Matrix [[9973   15]\n",
      " [  36  316]]\n",
      "precision [0.03404255 0.95468278 1.        ]\n",
      "recall [1.         0.89772727 0.        ]\n",
      "sensitivity 0.9984981978374049\n",
      "specificity 0.8977272727272727\n",
      "stuff (array([0.       , 0.0015018, 1.       ]), array([0.        , 0.89772727, 1.        ]), array([2., 1., 0.]))\n"
     ]
    },
    {
     "data": {
      "image/png": "[encoded data removed]",
      "text/plain": [
       "<matplotlib.figure.Figure at 0x119aec4a8>"
      ]
     },
     "metadata": {},
     "output_type": "display_data"
    },
    {
     "data": {
      "image/png": "[encoded data removed]",
      "text/plain": [
       "<matplotlib.figure.Figure at 0x118c314e0>"
      ]
     },
     "metadata": {},
     "output_type": "display_data"
    },
    {
     "name": "stdout",
     "output_type": "stream",
     "text": [
      "accuracy 0.9820116054158607\n",
      "confusion Matrix [[9833  155]\n",
      " [  31  321]]\n",
      "precision [0.03404255 0.67436975 1.        ]\n",
      "recall [1.         0.91193182 0.        ]\n",
      "sensitivity 0.9844813776531838\n",
      "specificity 0.9119318181818182\n",
      "stuff (array([0.        , 0.01551862, 1.        ]), array([0.        , 0.91193182, 1.        ]), array([2., 1., 0.]))\n"
     ]
    },
    {
     "data": {
      "image/png": "[encoded data removed]",
      "text/plain": [
       "<matplotlib.figure.Figure at 0x118c314a8>"
      ]
     },
     "metadata": {},
     "output_type": "display_data"
    },
    {
     "data": {
      "image/png": "[encoded data removed]",
      "text/plain": [
       "<matplotlib.figure.Figure at 0x12a612b38>"
      ]
     },
     "metadata": {},
     "output_type": "display_data"
    },
    {
     "name": "stdout",
     "output_type": "stream",
     "text": [
      "accuracy 0.9960348162475822\n",
      "confusion Matrix [[9982    6]\n",
      " [  35  317]]\n",
      "precision [0.03404255 0.98142415 1.        ]\n",
      "recall [1.         0.90056818 0.        ]\n",
      "sensitivity 0.999399279134962\n",
      "specificity 0.9005681818181818\n",
      "stuff (array([0.00000000e+00, 6.00720865e-04, 1.00000000e+00]), array([0.        , 0.90056818, 1.        ]), array([2., 1., 0.]))\n"
     ]
    },
    {
     "data": {
      "image/png": "[encoded data removed]",
      "text/plain": [
       "<matplotlib.figure.Figure at 0x12a631550>"
      ]
     },
     "metadata": {},
     "output_type": "display_data"
    },
    {
     "data": {
      "image/png": "[encoded data removed]",
      "text/plain": [
       "<matplotlib.figure.Figure at 0x11a462940>"
      ]
     },
     "metadata": {},
     "output_type": "display_data"
    }
   ],
   "source": [
    "# Make predictions on validation dataset\n",
    "\n",
    "messages = []\n",
    "matrices = []\n",
    "for name, model in models:\n",
    "    model.fit(X_train, Y_train)\n",
    "    prediction = model.predict(X_validation)\n",
    "    \n",
    "    accuracyScore = accuracy_score(Y_validation, prediction)\n",
    "    confusionMatrix = confusion_matrix(Y_validation, prediction)\n",
    "    classificationReport = classification_report(Y_validation, prediction)\n",
    "    precision, recall, thresholds = precision_recall_curve(Y_validation, prediction)\n",
    "    sensitivity = confusionMatrix[0, 0]/(confusionMatrix[0, 0]+confusionMatrix[0, 1])\n",
    "    specificity = confusionMatrix[1, 1]/(confusionMatrix[1, 0]+confusionMatrix[1, 1])\n",
    "    false_positive_rate, true_positive_rate, thresholds = roc_curve(Y_validation, prediction)\n",
    "    roc_auc = auc(false_positive_rate, true_positive_rate)\n",
    "    #metrics.roc_curve(Y_validation, prediction)\n",
    "    #auc = metrics.auc(confusionMatrix[0, 0], confusionMatrix[1, 1])\n",
    "    \n",
    "    print(\"accuracy\", accuracyScore)\n",
    "    print(\"confusion Matrix\", confusionMatrix)\n",
    "    print(\"precision\", precision)\n",
    "    print(\"recall\", recall)\n",
    "    print(\"sensitivity\", sensitivity)\n",
    "    print(\"specificity\", specificity)\n",
    "    print(\"stuff\", roc_curve(Y_validation, prediction))\n",
    "    plt.title('AUC')\n",
    "    plt.plot(false_positive_rate, true_positive_rate, 'b', label='AUC = %0.2f'% roc_auc)\n",
    "    plt.legend(loc='lower right')\n",
    "    plt.plot([0,1],[0,1],'r--')\n",
    "    plt.xlim([-0.1,1.2])\n",
    "    plt.ylim([-0.1,1.2])\n",
    "    plt.ylabel('True Positive Rate')\n",
    "    plt.xlabel('False Positive Rate')\n",
    "    plt.show()\n",
    "    \n",
    "    plt.step(recall, precision, color='b', alpha=0.2,where='post')\n",
    "    plt.fill_between(recall, precision, step='post', alpha=0.2, color='b')\n",
    "\n",
    "    plt.xlabel('Recall')\n",
    "    plt.ylabel('Precision')\n",
    "    plt.ylim([0.0, 1.05])\n",
    "    plt.xlim([0.0, 1.0])\n",
    "    plt.show()\n",
    "    #matrices.append(confusionMatrix)\n",
    "    \n",
    "#print(confusionMatrix)\n",
    "#print(messages)"
   ]
  },
  {
   "cell_type": "markdown",
   "metadata": {},
   "source": [
    "## Conclusion"
   ]
  },
  {
   "cell_type": "markdown",
   "metadata": {},
   "source": [
    "<h4> bla bla bla. <h4>"
   ]
  },
  {
   "cell_type": "code",
   "execution_count": 79,
   "metadata": {},
   "outputs": [
    {
     "name": "stdout",
     "output_type": "stream",
     "text": [
      "Feature ranking:\n",
      "1. feature 13 (0.688089)\n",
      "2. feature 12 (0.181989)\n",
      "3. feature 14 (0.051232)\n",
      "4. feature 1 (0.020180)\n",
      "5. feature 0 (0.018631)\n",
      "6. feature 2 (0.016126)\n",
      "7. feature 3 (0.011507)\n",
      "8. feature 4 (0.007477)\n",
      "9. feature 5 (0.004175)\n",
      "10. feature 7 (0.000303)\n",
      "11. feature 6 (0.000292)\n",
      "12. feature 8 (0.000000)\n",
      "13. feature 11 (0.000000)\n",
      "14. feature 10 (0.000000)\n",
      "15. feature 9 (0.000000)\n"
     ]
    },
    {
     "data": {
      "image/png": "[encoded data removed]",
      "text/plain": [
       "<matplotlib.figure.Figure at 0x110e22f60>"
      ]
     },
     "metadata": {},
     "output_type": "display_data"
    }
   ],
   "source": [
    "import numpy as np\n",
    "import matplotlib.pyplot as plt\n",
    "\n",
    "from sklearn.datasets import make_classification\n",
    "from sklearn.ensemble import ExtraTreesClassifier\n",
    "\n",
    "# Build a forest and compute the feature importances\n",
    "forest = ExtraTreesClassifier(n_estimators=250,\n",
    "                              random_state=0)\n",
    "\n",
    "forest.fit(X, Y)\n",
    "importances = forest.feature_importances_\n",
    "std = np.std([tree.feature_importances_ for tree in forest.estimators_],\n",
    "             axis=0)\n",
    "indices = np.argsort(importances)[::-1]\n",
    "\n",
    "# Print the feature ranking\n",
    "print(\"Feature ranking:\")\n",
    "\n",
    "for f in range(X.shape[1]):\n",
    "    print(\"%d. feature %d (%f)\" % (f + 1, indices[f], importances[indices[f]]))\n",
    "\n",
    "# Plot the feature importances of the forest\n",
    "plt.figure()\n",
    "plt.title(\"Feature importances\")\n",
    "plt.bar(range(X.shape[1]), importances[indices],\n",
    "       color=\"r\", yerr=std[indices], align=\"center\")\n",
    "plt.xticks(range(X.shape[1]), indices)\n",
    "plt.xlim([-1, X.shape[1]])\n",
    "plt.show()"
   ]
  },
  {
   "cell_type": "code",
   "execution_count": 31,
   "metadata": {},
   "outputs": [
    {
     "name": "stdout",
     "output_type": "stream",
     "text": [
      "Sepsis: 1815 rows out of 51696 rows\n",
      "Baseline: 0.9648909006499535\n"
     ]
    }
   ],
   "source": [
    "all_rows = master.shape[0]\n",
    "sepsis_rows = len(master[(master['SEPSIS'] == 1)])\n",
    "baseline = 1 -(sepsis_rows / all_rows)\n",
    "print('Sepsis: {} rows out of {} rows'.format(sepsis_rows, all_rows))\n",
    "print('Baseline: {}'.format(baseline))"
   ]
  },
  {
   "cell_type": "code",
   "execution_count": null,
   "metadata": {},
   "outputs": [],
   "source": []
  }
 ],
 "metadata": {
  "kernelspec": {
   "display_name": "Python 3",
   "language": "python",
   "name": "python3"
  },
  "language_info": {
   "codemirror_mode": {
    "name": "ipython",
    "version": 3
   },
   "file_extension": ".py",
   "mimetype": "text/x-python",
   "name": "python",
   "nbconvert_exporter": "python",
   "pygments_lexer": "ipython3",
   "version": "3.6.4"
  }
 },
 "nbformat": 4,
 "nbformat_minor": 2
}
