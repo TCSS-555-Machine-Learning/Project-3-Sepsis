{
 "cells": [
  {
   "cell_type": "markdown",
   "metadata": {},
   "source": [
    "<h1><center>Sepsis Prediction</h1>\n",
    "<h4>TCSS 555<br>\n",
    "Spring 2018<br>\n",
    "Thuan Lam, Tood Robbins, Inno Irving Estrera</h4></center>\n"
   ]
  },
  {
   "cell_type": "markdown",
   "metadata": {},
   "source": [
    "<h2>Libraries</h2>"
   ]
  },
  {
   "cell_type": "code",
   "execution_count": 197,
   "metadata": {},
   "outputs": [],
   "source": [
    "import numpy as np\n",
    "import pandas as pd\n",
    "import matplotlib.pyplot as plt\n",
    "\n",
    "from sklearn.utils import shuffle\n",
    "from dateutil.parser import parse\n",
    "from datetime import datetime\n",
    "\n",
    "from sklearn import model_selection\n",
    "from sklearn.linear_model import LogisticRegression\n",
    "from sklearn.tree import DecisionTreeClassifier\n",
    "from sklearn.neighbors import KNeighborsClassifier\n",
    "from sklearn.discriminant_analysis import LinearDiscriminantAnalysis\n",
    "from sklearn.naive_bayes import GaussianNB\n",
    "from sklearn.svm import SVC\n",
    "from sklearn.ensemble import RandomForestClassifier\n",
    "\n",
    "from sklearn.metrics import accuracy_score\n",
    "from sklearn.metrics import confusion_matrix\n",
    "from sklearn.metrics import classification_report"
   ]
  },
  {
   "cell_type": "markdown",
   "metadata": {},
   "source": [
    "## Data"
   ]
  },
  {
   "cell_type": "code",
   "execution_count": 198,
   "metadata": {},
   "outputs": [
    {
     "name": "stdout",
     "output_type": "stream",
     "text": [
      "Current folder is D:\\Users\\Thuan Lam\\Google Drive\\TCC-Madison-UWT\\UWT\\TCSS 555 - Machine Learning\\Projects\\Sepsis\n",
      "Data\\\n"
     ]
    }
   ],
   "source": [
    "import os \n",
    "cwd = os.getcwd()\n",
    "print('Current folder is {}'.format(cwd))\n",
    "\n",
    "if os.name == \"posix\":\n",
    "    unreadable = set([       \n",
    "        \"NEW_CHARTEVENTS.csv\",\n",
    "        \"ADMISSIONS.csv\",\n",
    "        \"NEW_ICUSTAYS.csv\",\n",
    "        \"DRGCODES.csv\"\n",
    "    ])\n",
    "    USER_DIR = '/Users/innoestrera/Desktop/mimic3/';\n",
    "else:\n",
    "    USER_DIR = 'Data\\\\';\n",
    "print(USER_DIR)"
   ]
  },
  {
   "cell_type": "code",
   "execution_count": 199,
   "metadata": {},
   "outputs": [],
   "source": [
    "# Load datasets\n",
    "admissions = pd.read_csv(\"{}ADMISSIONS.csv\".format(USER_DIR))[['HADM_ID','SUBJECT_ID','DIAGNOSIS']]\n",
    "# convert Diagnosis to binary: 1 means sepsis\n",
    "admissions['DIAGNOSIS'] = admissions['DIAGNOSIS'].apply(lambda x : 0 if str(x).find('SEPSIS') == -1 else 1)\n",
    "# print(admissions.head(2))\n",
    "# adminssions = shuffle(stays)\n",
    "\n",
    "drugs = pd.read_csv(\"{}DRGCODES.csv\".format(USER_DIR))[['HADM_ID','SUBJECT_ID','DRG_CODE','DESCRIPTION']]\n",
    "\n",
    "stays = pd.read_csv(\"{}NEW_ICUSTAYS.csv\".format(USER_DIR))[['HADM_ID','ICUSTAY_ID','LOS']]\n",
    "# print(stays.head(1))\n",
    "\n",
    "chart = pd.read_csv(\"{}NEW_CHARTEVENTS.csv\".format(USER_DIR))\n",
    "# print(chart.head(2))"
   ]
  },
  {
   "cell_type": "markdown",
   "metadata": {},
   "source": [
    "## Create the Y Set"
   ]
  },
  {
   "cell_type": "code",
   "execution_count": 200,
   "metadata": {},
   "outputs": [],
   "source": [
    "#get a copy with 2 columns only\n",
    "find_sepsis = drugs[['HADM_ID', 'DRG_CODE']].copy()\n",
    "\n",
    "#change drug code 870, 871, 872 to 1; Otherwise, 0\n",
    "#https://www.icd10monitor.com/understanding-sepsis-an-example-of-the-convergence-of-clinical-quality-coding-reimbursement-and-audit\n",
    "find_sepsis['DRG_CODE'] = find_sepsis['DRG_CODE'].apply(lambda x: 1 if (x >= 870 and x <= 872) or (x >= 867 and x <= 869) or x == 776 or (x >= 974 and x <= 976) else 0)\n",
    "\n",
    "#sum all drugcodes grouup by HADM_ID. If the sum > 0 means HADM_ID has/had sepsis\n",
    "find_sepsis = find_sepsis.groupby(['HADM_ID']).sum().reset_index() # .sort_values(by=['DRG_CODE'], ascending=False)\n",
    "\n",
    "#convert DRG_CODE to binary: 1 means sepsis, 0 means NO\n",
    "find_sepsis['DRG_CODE'] = find_sepsis['DRG_CODE'].apply(lambda x: 1 if x > 0 else 0)\n",
    "\n",
    "#change DRG_CODR to SEPSIS, it would be easier \n",
    "find_sepsis.rename(columns={'DRG_CODE': 'SEPSIS'}, inplace=True)\n",
    "\n",
    "# print('find_sepsis: ')\n",
    "# print(find_sepsis.head(2))\n",
    "# print('admission1: ')\n",
    "# print(admissions.head(2))\n",
    "\n",
    "#merge tables to create the Y set\n",
    "admissions = pd.merge(admissions, find_sepsis, on='HADM_ID', how='left') #.drop(['SUBJECT_ID'], axis=1)\n",
    "admissions = admissions.fillna(0)\n",
    "# print('admission2: ')\n",
    "# print(admissions.head(2))\n",
    "\n",
    "# admissions.loc[admissions['SEPSIS'] > 0]"
   ]
  },
  {
   "cell_type": "markdown",
   "metadata": {},
   "source": [
    "## Create the X Set"
   ]
  },
  {
   "cell_type": "markdown",
   "metadata": {},
   "source": [
    "* <h3>Master"
   ]
  },
  {
   "cell_type": "code",
   "execution_count": 201,
   "metadata": {},
   "outputs": [],
   "source": [
    "master = pd.merge(admissions, stays, on='HADM_ID', how='inner') #.drop(['SUBJECT_ID'], axis=1)\n",
    "# print(master.head(3))"
   ]
  },
  {
   "cell_type": "markdown",
   "metadata": {},
   "source": [
    "* <h3>Get ItemIDs from ChartEvents then Add into Master"
   ]
  },
  {
   "cell_type": "code",
   "execution_count": 202,
   "metadata": {},
   "outputs": [],
   "source": [
    "# get itemsIds from ChartEvent\n",
    "for x in chart.ITEMID.unique():\n",
    "    master[x] = 0\n",
    "\n",
    "# set index\n",
    "master = master.set_index('ICUSTAY_ID')\n",
    "# print(master.head(2))"
   ]
  },
  {
   "cell_type": "markdown",
   "metadata": {},
   "source": [
    "* <h3>Put Item's Values into Master"
   ]
  },
  {
   "cell_type": "code",
   "execution_count": 203,
   "metadata": {},
   "outputs": [],
   "source": [
    "for index, row in chart.iterrows():    \n",
    "    master.loc[row['ICUSTAY_ID'], row['ITEMID']] = row['VALUE']\n",
    "# print(master.head(2))"
   ]
  },
  {
   "cell_type": "code",
   "execution_count": 204,
   "metadata": {},
   "outputs": [],
   "source": [
    "# move the SEPSIS column to the last \n",
    "cols = master.columns.tolist()\n",
    "cols.insert(len(master.columns) - 1, cols.pop(cols.index('SEPSIS')))\n",
    "\n",
    "master = master.reindex(columns= cols).reset_index()"
   ]
  },
  {
   "cell_type": "code",
   "execution_count": 205,
   "metadata": {},
   "outputs": [
    {
     "name": "stdout",
     "output_type": "stream",
     "text": [
      "Master built. Shape: (51696, 14)\n",
      "['DIAGNOSIS' 'LOS' 220615 225690 198 828 1525 490 226755 438 2981 227010\n",
      " 227023 'SEPSIS']\n"
     ]
    }
   ],
   "source": [
    "# remove unnecessary columns\n",
    "master.drop(['ICUSTAY_ID','HADM_ID','SUBJECT_ID'], axis=1, inplace=True)\n",
    "# print(master.head(2))\n",
    "print('Master built. Shape: {}'.format(master.shape))\n",
    "print(master.columns.values)"
   ]
  },
  {
   "cell_type": "code",
   "execution_count": 207,
   "metadata": {},
   "outputs": [],
   "source": [
    "master.fillna(0)\n",
    "master = shuffle(master)\n",
    "# master = master[:30000]\n",
    "\n",
    "# ol_mask=master.isnull().any(axis=0) \n",
    "# ol_mask"
   ]
  },
  {
   "cell_type": "markdown",
   "metadata": {},
   "source": [
    "## Model"
   ]
  },
  {
   "cell_type": "code",
   "execution_count": 208,
   "metadata": {},
   "outputs": [],
   "source": [
    "# Split-out validation dataset\n",
    "col = len(master.columns) - 1\n",
    "array = master.values   #numpy array\n",
    "X = array[:,0:col]# first N columns\n",
    "Y = array[:,col]  # SEPSIS column"
   ]
  },
  {
   "cell_type": "code",
   "execution_count": 209,
   "metadata": {},
   "outputs": [],
   "source": [
    "validation_size = 0.20\n",
    "seed = 7\n",
    "X_train, X_validation, Y_train, Y_validation = model_selection.train_test_split(X, Y, test_size=validation_size, random_state=seed)\n",
    "# print('{}'.format(X_train, Y_train))"
   ]
  },
  {
   "cell_type": "code",
   "execution_count": 210,
   "metadata": {},
   "outputs": [
    {
     "name": "stdout",
     "output_type": "stream",
     "text": [
      "LR: 0.964458 (0.004358)\n",
      "KNN: 0.964333 (0.004254)\n",
      "CART: 0.940333 (0.005965)\n",
      "NB: 0.422583 (0.192450)\n",
      "RF: 0.962125 (0.004682)\n"
     ]
    }
   ],
   "source": [
    "# Test options and evaluation metric\n",
    "seed = 7\n",
    "scoring = 'accuracy'\n",
    "\n",
    "# Spot Check Algorithms\n",
    "models = []\n",
    "models.append(('LR', LogisticRegression()))\n",
    "models.append(('KNN', KNeighborsClassifier()))\n",
    "models.append(('CART', DecisionTreeClassifier()))\n",
    "models.append(('NB', GaussianNB()))\n",
    "models.append(('RF', RandomForestClassifier()))\n",
    "\n",
    "# evaluate each model in turn\n",
    "results = []\n",
    "names = []\n",
    "for name, model in models:\n",
    "    kfold = model_selection.KFold(n_splits=10, random_state=seed)\n",
    "    cv_results = model_selection.cross_val_score(model, X_train, Y_train, cv=kfold, scoring=scoring)\n",
    "    results.append(cv_results)\n",
    "    names.append(name)\n",
    "    msg = \"%s: %f (%f)\" % (name, cv_results.mean(), cv_results.std())\n",
    "    print(msg)"
   ]
  },
  {
   "cell_type": "code",
   "execution_count": 211,
   "metadata": {},
   "outputs": [
    {
     "data": {
      "image/png": "[encoded data removed]",
      "text/plain": [
       "<matplotlib.figure.Figure at 0x1a86ecfa3c8>"
      ]
     },
     "metadata": {},
     "output_type": "display_data"
    }
   ],
   "source": [
    "# Compare Algorithms\n",
    "fig = plt.figure()\n",
    "fig.suptitle('Algorithm Comparison')\n",
    "ax = fig.add_subplot(111)\n",
    "plt.boxplot(results)\n",
    "ax.set_xticklabels(names)\n",
    "plt.show()"
   ]
  },
  {
   "cell_type": "code",
   "execution_count": 212,
   "metadata": {},
   "outputs": [
    {
     "name": "stdout",
     "output_type": "stream",
     "text": [
      "[]\n",
      "[array([[5785,    7],\n",
      "       [ 202,    6]], dtype=int64), array([[5772,   20],\n",
      "       [ 191,   17]], dtype=int64), array([[5584,  208],\n",
      "       [ 174,   34]], dtype=int64), array([[2203, 3589],\n",
      "       [  13,  195]], dtype=int64), array([[5752,   40],\n",
      "       [ 183,   25]], dtype=int64)]\n"
     ]
    }
   ],
   "source": [
    "# Make predictions on validation dataset\n",
    "\n",
    "messages = []\n",
    "matrices = []\n",
    "for name, model in models:\n",
    "    model.fit(X_train, Y_train)\n",
    "    prediction = model.predict(X_validation)\n",
    "    \n",
    "    accuracyScore = accuracy_score(Y_validation, prediction)\n",
    "    confusionMatrix = confusion_matrix(Y_validation, prediction)\n",
    "    matrices.append(confusionMatrix)\n",
    "\n",
    "print(messages)\n",
    "print(matrices)"
   ]
  },
  {
   "cell_type": "markdown",
   "metadata": {},
   "source": [
    "## Conclusion"
   ]
  },
  {
   "cell_type": "markdown",
   "metadata": {},
   "source": [
    "<h4> bla bla bla. <h4>"
   ]
  },
  {
   "cell_type": "code",
   "execution_count": null,
   "metadata": {},
   "outputs": [],
   "source": []
  },
  {
   "cell_type": "code",
   "execution_count": null,
   "metadata": {},
   "outputs": [],
   "source": []
  },
  {
   "cell_type": "code",
   "execution_count": null,
   "metadata": {},
   "outputs": [],
   "source": []
  }
 ],
 "metadata": {
  "kernelspec": {
   "display_name": "Python 3",
   "language": "python",
   "name": "python3"
  },
  "language_info": {
   "codemirror_mode": {
    "name": "ipython",
    "version": 3
   },
   "file_extension": ".py",
   "mimetype": "text/x-python",
   "name": "python",
   "nbconvert_exporter": "python",
   "pygments_lexer": "ipython3",
   "version": "3.6.4"
  }
 },
 "nbformat": 4,
 "nbformat_minor": 2
}
